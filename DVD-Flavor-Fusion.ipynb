{
  "nbformat": 4,
  "nbformat_minor": 0,
  "metadata": {
    "colab": {
      "provenance": [],
      "mount_file_id": "1WN2lrRumt7TVRRpmTtkAZBRD377EVES3",
      "authorship_tag": "ABX9TyM6kRty43/1/SIwZKddwkx3",
      "include_colab_link": true
    },
    "kernelspec": {
      "name": "python3",
      "display_name": "Python 3"
    },
    "language_info": {
      "name": "python"
    }
  },
  "cells": [
    {
      "cell_type": "markdown",
      "metadata": {
        "id": "view-in-github",
        "colab_type": "text"
      },
      "source": [
        "<a href=\"https://colab.research.google.com/github/faizanxmulla/power-bi-portfolio/blob/main/DVD-Flavor-Fusion.ipynb\" target=\"_parent\"><img src=\"https://colab.research.google.com/assets/colab-badge.svg\" alt=\"Open In Colab\"/></a>"
      ]
    },
    {
      "cell_type": "markdown",
      "source": [
        "#### **I. Importing Libraries**"
      ],
      "metadata": {
        "id": "e9sd24ozb3tz"
      }
    },
    {
      "cell_type": "code",
      "execution_count": null,
      "metadata": {
        "id": "mIOVdXbpYXnS"
      },
      "outputs": [],
      "source": [
        "import numpy as np\n",
        "import pandas as pd\n",
        "import matplotlib.pyplot as plt\n",
        "import seaborn as sns\n",
        "\n",
        "import warnings\n",
        "warnings.filterwarnings('ignore')"
      ]
    },
    {
      "cell_type": "markdown",
      "source": [
        "#### **II. Getting Data**"
      ],
      "metadata": {
        "id": "Jh6N6prTchkZ"
      }
    },
    {
      "cell_type": "code",
      "source": [
        "df = pd.read_csv(\"/content/drive/MyDrive/DVD /Project/Different_food_choices_.csv\")"
      ],
      "metadata": {
        "id": "u50zgZLXcA4e"
      },
      "execution_count": null,
      "outputs": []
    },
    {
      "cell_type": "code",
      "source": [
        "print('Number of Rows : {}\\nNumber of Columns : {}'.format(\n",
        "    df.shape[0], df.shape[1]))"
      ],
      "metadata": {
        "colab": {
          "base_uri": "https://localhost:8080/"
        },
        "id": "rbCVtRwects5",
        "outputId": "e04f52c1-b2d7-4c9b-a10d-5702e54c522d"
      },
      "execution_count": null,
      "outputs": [
        {
          "output_type": "stream",
          "name": "stdout",
          "text": [
            "Number of Rows : 125\n",
            "Number of Columns : 61\n"
          ]
        }
      ]
    },
    {
      "cell_type": "code",
      "source": [
        "df.info()"
      ],
      "metadata": {
        "colab": {
          "base_uri": "https://localhost:8080/"
        },
        "id": "-wkPz26mczTp",
        "outputId": "d11233e8-5448-4f81-e954-479461f5e8b7"
      },
      "execution_count": null,
      "outputs": [
        {
          "output_type": "stream",
          "name": "stdout",
          "text": [
            "<class 'pandas.core.frame.DataFrame'>\n",
            "RangeIndex: 125 entries, 0 to 124\n",
            "Data columns (total 61 columns):\n",
            " #   Column                        Non-Null Count  Dtype  \n",
            "---  ------                        --------------  -----  \n",
            " 0   GPA                           123 non-null    object \n",
            " 1   Gender                        125 non-null    int64  \n",
            " 2   breakfast                     125 non-null    int64  \n",
            " 3   calories_chicken              125 non-null    int64  \n",
            " 4   calories_day                  106 non-null    float64\n",
            " 5   calories_scone                124 non-null    float64\n",
            " 6   coffee                        125 non-null    int64  \n",
            " 7   comfort_food                  124 non-null    object \n",
            " 8   comfort_food_reasons          124 non-null    object \n",
            " 9   comfort_food_reasons_coded    106 non-null    float64\n",
            " 10  cook                          122 non-null    float64\n",
            " 11  comfort_food_reasons_coded.1  125 non-null    int64  \n",
            " 12  cuisine                       108 non-null    float64\n",
            " 13  diet_current                  124 non-null    object \n",
            " 14  diet_current_coded            125 non-null    int64  \n",
            " 15  drink                         123 non-null    float64\n",
            " 16  eating_changes                122 non-null    object \n",
            " 17  eating_changes_coded          125 non-null    int64  \n",
            " 18  eating_changes_coded1         125 non-null    int64  \n",
            " 19  eating_out                    125 non-null    int64  \n",
            " 20  employment                    116 non-null    float64\n",
            " 21  ethnic_food                   125 non-null    int64  \n",
            " 22  exercise                      112 non-null    float64\n",
            " 23  father_education              124 non-null    float64\n",
            " 24  father_profession             122 non-null    object \n",
            " 25  fav_cuisine                   123 non-null    object \n",
            " 26  fav_cuisine_coded             125 non-null    int64  \n",
            " 27  fav_food                      123 non-null    float64\n",
            " 28  food_childhood                124 non-null    object \n",
            " 29  fries                         125 non-null    int64  \n",
            " 30  fruit_day                     125 non-null    int64  \n",
            " 31  grade_level                   125 non-null    int64  \n",
            " 32  greek_food                    125 non-null    int64  \n",
            " 33  healthy_feeling               125 non-null    int64  \n",
            " 34  healthy_meal                  124 non-null    object \n",
            " 35  ideal_diet                    124 non-null    object \n",
            " 36  ideal_diet_coded              125 non-null    int64  \n",
            " 37  income                        124 non-null    float64\n",
            " 38  indian_food                   125 non-null    int64  \n",
            " 39  italian_food                  125 non-null    int64  \n",
            " 40  life_rewarding                124 non-null    float64\n",
            " 41  marital_status                124 non-null    float64\n",
            " 42  meals_dinner_friend           122 non-null    object \n",
            " 43  mother_education              122 non-null    float64\n",
            " 44  mother_profession             123 non-null    object \n",
            " 45  nutritional_check             125 non-null    int64  \n",
            " 46  on_off_campus                 124 non-null    float64\n",
            " 47  parents_cook                  125 non-null    int64  \n",
            " 48  pay_meal_out                  125 non-null    int64  \n",
            " 49  persian_food                  124 non-null    float64\n",
            " 50  self_perception_weight        124 non-null    float64\n",
            " 51  soup                          124 non-null    float64\n",
            " 52  sports                        123 non-null    float64\n",
            " 53  thai_food                     125 non-null    int64  \n",
            " 54  tortilla_calories             124 non-null    float64\n",
            " 55  turkey_calories               125 non-null    int64  \n",
            " 56  type_sports                   104 non-null    object \n",
            " 57  veggies_day                   125 non-null    int64  \n",
            " 58  vitamins                      125 non-null    int64  \n",
            " 59  waffle_calories               125 non-null    int64  \n",
            " 60  weight                        123 non-null    object \n",
            "dtypes: float64(20), int64(27), object(14)\n",
            "memory usage: 59.7+ KB\n"
          ]
        }
      ]
    },
    {
      "cell_type": "code",
      "source": [
        "df.describe().T"
      ],
      "metadata": {
        "colab": {
          "base_uri": "https://localhost:8080/",
          "height": 1000
        },
        "id": "kXgJ3M47dsby",
        "outputId": "ebf58133-0813-413c-c421-1433bf1e24f9"
      },
      "execution_count": null,
      "outputs": [
        {
          "output_type": "execute_result",
          "data": {
            "text/plain": [
              "                              count         mean         std    min    25%  \\\n",
              "Gender                        125.0     1.392000    0.490161    1.0    1.0   \n",
              "breakfast                     125.0     1.112000    0.316636    1.0    1.0   \n",
              "calories_chicken              125.0   577.320000  131.214156  265.0  430.0   \n",
              "calories_day                  106.0     3.028302    0.639308    2.0    3.0   \n",
              "calories_scone                124.0   505.241935  230.840506  315.0  420.0   \n",
              "coffee                        125.0     1.752000    0.433590    1.0    2.0   \n",
              "comfort_food_reasons_coded    106.0     2.698113    1.972042    1.0    2.0   \n",
              "cook                          122.0     2.786885    1.038351    1.0    2.0   \n",
              "comfort_food_reasons_coded.1  125.0     2.688000    1.910987    1.0    2.0   \n",
              "cuisine                       108.0     1.388889    0.974759    1.0    1.0   \n",
              "diet_current_coded            125.0     1.760000    0.766222    1.0    1.0   \n",
              "drink                         123.0     1.560976    0.498298    1.0    1.0   \n",
              "eating_changes_coded          125.0     1.536000    0.757159    1.0    1.0   \n",
              "eating_changes_coded1         125.0     4.552000    2.547788    1.0    3.0   \n",
              "eating_out                    125.0     2.560000    1.138760    1.0    2.0   \n",
              "employment                    116.0     2.448276    0.533158    1.0    2.0   \n",
              "ethnic_food                   125.0     3.744000    1.177093    1.0    3.0   \n",
              "exercise                      112.0     1.589286    0.665137    1.0    1.0   \n",
              "father_education              124.0     3.483871    1.206243    1.0    2.0   \n",
              "fav_cuisine_coded             125.0     2.424000    1.947968    0.0    1.0   \n",
              "fav_food                      123.0     1.715447    0.910056    1.0    1.0   \n",
              "fries                         125.0     1.088000    0.284435    1.0    1.0   \n",
              "fruit_day                     125.0     4.224000    0.923388    1.0    4.0   \n",
              "grade_level                   125.0     2.376000    1.133536    1.0    1.0   \n",
              "greek_food                    125.0     3.488000    1.365567    1.0    3.0   \n",
              "healthy_feeling               125.0     5.456000    2.585643    1.0    3.0   \n",
              "ideal_diet_coded              125.0     3.704000    2.086918    1.0    2.0   \n",
              "income                        124.0     4.532258    1.456332    1.0    4.0   \n",
              "indian_food                   125.0     3.152000    1.486802    1.0    2.0   \n",
              "italian_food                  125.0     4.728000    0.587175    3.0    5.0   \n",
              "life_rewarding                124.0     5.104839    3.120399    1.0    2.0   \n",
              "marital_status                124.0     1.500000    0.548464    1.0    1.0   \n",
              "mother_education              122.0     3.426230    1.170703    1.0    2.0   \n",
              "nutritional_check             125.0     3.152000    1.205204    1.0    2.0   \n",
              "on_off_campus                 124.0     1.322581    0.681323    1.0    1.0   \n",
              "parents_cook                  125.0     1.528000    0.746778    1.0    1.0   \n",
              "pay_meal_out                  125.0     3.408000    1.040285    2.0    3.0   \n",
              "persian_food                  124.0     2.806452    1.423824    1.0    2.0   \n",
              "self_perception_weight        124.0     3.120968    1.115980    1.0    2.0   \n",
              "soup                          124.0     1.217742    0.414385    1.0    1.0   \n",
              "sports                        123.0     1.390244    0.489800    1.0    1.0   \n",
              "thai_food                     125.0     3.336000    1.436528    1.0    2.0   \n",
              "tortilla_calories             124.0   947.580645  202.090179  580.0  725.0   \n",
              "turkey_calories               125.0   555.040000  152.370379  345.0  500.0   \n",
              "veggies_day                   125.0     4.008000    1.081337    1.0    3.0   \n",
              "vitamins                      125.0     1.512000    0.501867    1.0    1.0   \n",
              "waffle_calories               125.0  1073.400000  248.667092  575.0  900.0   \n",
              "\n",
              "                                50%     75%     max  \n",
              "Gender                          1.0     2.0     2.0  \n",
              "breakfast                       1.0     1.0     2.0  \n",
              "calories_chicken              610.0   720.0   720.0  \n",
              "calories_day                    3.0     3.0     4.0  \n",
              "calories_scone                420.0   420.0   980.0  \n",
              "coffee                          2.0     2.0     2.0  \n",
              "comfort_food_reasons_coded      2.0     3.0     9.0  \n",
              "cook                            3.0     3.0     5.0  \n",
              "comfort_food_reasons_coded.1    2.0     3.0     9.0  \n",
              "cuisine                         1.0     1.0     6.0  \n",
              "diet_current_coded              2.0     2.0     4.0  \n",
              "drink                           2.0     2.0     2.0  \n",
              "eating_changes_coded            1.0     2.0     4.0  \n",
              "eating_changes_coded1           4.0     5.0    13.0  \n",
              "eating_out                      2.0     3.0     5.0  \n",
              "employment                      2.0     3.0     3.0  \n",
              "ethnic_food                     4.0     5.0     5.0  \n",
              "exercise                        1.0     2.0     3.0  \n",
              "father_education                4.0     4.0     5.0  \n",
              "fav_cuisine_coded               1.0     4.0     8.0  \n",
              "fav_food                        1.0     3.0     3.0  \n",
              "fries                           1.0     1.0     2.0  \n",
              "fruit_day                       5.0     5.0     5.0  \n",
              "grade_level                     2.0     3.0     4.0  \n",
              "greek_food                      4.0     5.0     5.0  \n",
              "healthy_feeling                 5.0     8.0    10.0  \n",
              "ideal_diet_coded                3.0     6.0     8.0  \n",
              "income                          5.0     6.0     6.0  \n",
              "indian_food                     3.0     5.0     5.0  \n",
              "italian_food                    5.0     5.0     5.0  \n",
              "life_rewarding                  5.0     8.0    10.0  \n",
              "marital_status                  1.0     2.0     4.0  \n",
              "mother_education                4.0     4.0     5.0  \n",
              "nutritional_check               3.0     4.0     5.0  \n",
              "on_off_campus                   1.0     1.0     4.0  \n",
              "parents_cook                    1.0     2.0     5.0  \n",
              "pay_meal_out                    3.0     4.0     6.0  \n",
              "persian_food                    3.0     4.0     5.0  \n",
              "self_perception_weight          3.0     4.0     6.0  \n",
              "soup                            1.0     1.0     2.0  \n",
              "sports                          1.0     2.0     2.0  \n",
              "thai_food                       3.0     5.0     5.0  \n",
              "tortilla_calories             940.0  1165.0  1165.0  \n",
              "turkey_calories               500.0   690.0   850.0  \n",
              "veggies_day                     4.0     5.0     5.0  \n",
              "vitamins                        2.0     2.0     2.0  \n",
              "waffle_calories               900.0  1315.0  1315.0  "
            ],
            "text/html": [
              "\n",
              "  <div id=\"df-dabceaa8-67d3-4b74-a47d-65188e1f85fe\" class=\"colab-df-container\">\n",
              "    <div>\n",
              "<style scoped>\n",
              "    .dataframe tbody tr th:only-of-type {\n",
              "        vertical-align: middle;\n",
              "    }\n",
              "\n",
              "    .dataframe tbody tr th {\n",
              "        vertical-align: top;\n",
              "    }\n",
              "\n",
              "    .dataframe thead th {\n",
              "        text-align: right;\n",
              "    }\n",
              "</style>\n",
              "<table border=\"1\" class=\"dataframe\">\n",
              "  <thead>\n",
              "    <tr style=\"text-align: right;\">\n",
              "      <th></th>\n",
              "      <th>count</th>\n",
              "      <th>mean</th>\n",
              "      <th>std</th>\n",
              "      <th>min</th>\n",
              "      <th>25%</th>\n",
              "      <th>50%</th>\n",
              "      <th>75%</th>\n",
              "      <th>max</th>\n",
              "    </tr>\n",
              "  </thead>\n",
              "  <tbody>\n",
              "    <tr>\n",
              "      <th>Gender</th>\n",
              "      <td>125.0</td>\n",
              "      <td>1.392000</td>\n",
              "      <td>0.490161</td>\n",
              "      <td>1.0</td>\n",
              "      <td>1.0</td>\n",
              "      <td>1.0</td>\n",
              "      <td>2.0</td>\n",
              "      <td>2.0</td>\n",
              "    </tr>\n",
              "    <tr>\n",
              "      <th>breakfast</th>\n",
              "      <td>125.0</td>\n",
              "      <td>1.112000</td>\n",
              "      <td>0.316636</td>\n",
              "      <td>1.0</td>\n",
              "      <td>1.0</td>\n",
              "      <td>1.0</td>\n",
              "      <td>1.0</td>\n",
              "      <td>2.0</td>\n",
              "    </tr>\n",
              "    <tr>\n",
              "      <th>calories_chicken</th>\n",
              "      <td>125.0</td>\n",
              "      <td>577.320000</td>\n",
              "      <td>131.214156</td>\n",
              "      <td>265.0</td>\n",
              "      <td>430.0</td>\n",
              "      <td>610.0</td>\n",
              "      <td>720.0</td>\n",
              "      <td>720.0</td>\n",
              "    </tr>\n",
              "    <tr>\n",
              "      <th>calories_day</th>\n",
              "      <td>106.0</td>\n",
              "      <td>3.028302</td>\n",
              "      <td>0.639308</td>\n",
              "      <td>2.0</td>\n",
              "      <td>3.0</td>\n",
              "      <td>3.0</td>\n",
              "      <td>3.0</td>\n",
              "      <td>4.0</td>\n",
              "    </tr>\n",
              "    <tr>\n",
              "      <th>calories_scone</th>\n",
              "      <td>124.0</td>\n",
              "      <td>505.241935</td>\n",
              "      <td>230.840506</td>\n",
              "      <td>315.0</td>\n",
              "      <td>420.0</td>\n",
              "      <td>420.0</td>\n",
              "      <td>420.0</td>\n",
              "      <td>980.0</td>\n",
              "    </tr>\n",
              "    <tr>\n",
              "      <th>coffee</th>\n",
              "      <td>125.0</td>\n",
              "      <td>1.752000</td>\n",
              "      <td>0.433590</td>\n",
              "      <td>1.0</td>\n",
              "      <td>2.0</td>\n",
              "      <td>2.0</td>\n",
              "      <td>2.0</td>\n",
              "      <td>2.0</td>\n",
              "    </tr>\n",
              "    <tr>\n",
              "      <th>comfort_food_reasons_coded</th>\n",
              "      <td>106.0</td>\n",
              "      <td>2.698113</td>\n",
              "      <td>1.972042</td>\n",
              "      <td>1.0</td>\n",
              "      <td>2.0</td>\n",
              "      <td>2.0</td>\n",
              "      <td>3.0</td>\n",
              "      <td>9.0</td>\n",
              "    </tr>\n",
              "    <tr>\n",
              "      <th>cook</th>\n",
              "      <td>122.0</td>\n",
              "      <td>2.786885</td>\n",
              "      <td>1.038351</td>\n",
              "      <td>1.0</td>\n",
              "      <td>2.0</td>\n",
              "      <td>3.0</td>\n",
              "      <td>3.0</td>\n",
              "      <td>5.0</td>\n",
              "    </tr>\n",
              "    <tr>\n",
              "      <th>comfort_food_reasons_coded.1</th>\n",
              "      <td>125.0</td>\n",
              "      <td>2.688000</td>\n",
              "      <td>1.910987</td>\n",
              "      <td>1.0</td>\n",
              "      <td>2.0</td>\n",
              "      <td>2.0</td>\n",
              "      <td>3.0</td>\n",
              "      <td>9.0</td>\n",
              "    </tr>\n",
              "    <tr>\n",
              "      <th>cuisine</th>\n",
              "      <td>108.0</td>\n",
              "      <td>1.388889</td>\n",
              "      <td>0.974759</td>\n",
              "      <td>1.0</td>\n",
              "      <td>1.0</td>\n",
              "      <td>1.0</td>\n",
              "      <td>1.0</td>\n",
              "      <td>6.0</td>\n",
              "    </tr>\n",
              "    <tr>\n",
              "      <th>diet_current_coded</th>\n",
              "      <td>125.0</td>\n",
              "      <td>1.760000</td>\n",
              "      <td>0.766222</td>\n",
              "      <td>1.0</td>\n",
              "      <td>1.0</td>\n",
              "      <td>2.0</td>\n",
              "      <td>2.0</td>\n",
              "      <td>4.0</td>\n",
              "    </tr>\n",
              "    <tr>\n",
              "      <th>drink</th>\n",
              "      <td>123.0</td>\n",
              "      <td>1.560976</td>\n",
              "      <td>0.498298</td>\n",
              "      <td>1.0</td>\n",
              "      <td>1.0</td>\n",
              "      <td>2.0</td>\n",
              "      <td>2.0</td>\n",
              "      <td>2.0</td>\n",
              "    </tr>\n",
              "    <tr>\n",
              "      <th>eating_changes_coded</th>\n",
              "      <td>125.0</td>\n",
              "      <td>1.536000</td>\n",
              "      <td>0.757159</td>\n",
              "      <td>1.0</td>\n",
              "      <td>1.0</td>\n",
              "      <td>1.0</td>\n",
              "      <td>2.0</td>\n",
              "      <td>4.0</td>\n",
              "    </tr>\n",
              "    <tr>\n",
              "      <th>eating_changes_coded1</th>\n",
              "      <td>125.0</td>\n",
              "      <td>4.552000</td>\n",
              "      <td>2.547788</td>\n",
              "      <td>1.0</td>\n",
              "      <td>3.0</td>\n",
              "      <td>4.0</td>\n",
              "      <td>5.0</td>\n",
              "      <td>13.0</td>\n",
              "    </tr>\n",
              "    <tr>\n",
              "      <th>eating_out</th>\n",
              "      <td>125.0</td>\n",
              "      <td>2.560000</td>\n",
              "      <td>1.138760</td>\n",
              "      <td>1.0</td>\n",
              "      <td>2.0</td>\n",
              "      <td>2.0</td>\n",
              "      <td>3.0</td>\n",
              "      <td>5.0</td>\n",
              "    </tr>\n",
              "    <tr>\n",
              "      <th>employment</th>\n",
              "      <td>116.0</td>\n",
              "      <td>2.448276</td>\n",
              "      <td>0.533158</td>\n",
              "      <td>1.0</td>\n",
              "      <td>2.0</td>\n",
              "      <td>2.0</td>\n",
              "      <td>3.0</td>\n",
              "      <td>3.0</td>\n",
              "    </tr>\n",
              "    <tr>\n",
              "      <th>ethnic_food</th>\n",
              "      <td>125.0</td>\n",
              "      <td>3.744000</td>\n",
              "      <td>1.177093</td>\n",
              "      <td>1.0</td>\n",
              "      <td>3.0</td>\n",
              "      <td>4.0</td>\n",
              "      <td>5.0</td>\n",
              "      <td>5.0</td>\n",
              "    </tr>\n",
              "    <tr>\n",
              "      <th>exercise</th>\n",
              "      <td>112.0</td>\n",
              "      <td>1.589286</td>\n",
              "      <td>0.665137</td>\n",
              "      <td>1.0</td>\n",
              "      <td>1.0</td>\n",
              "      <td>1.0</td>\n",
              "      <td>2.0</td>\n",
              "      <td>3.0</td>\n",
              "    </tr>\n",
              "    <tr>\n",
              "      <th>father_education</th>\n",
              "      <td>124.0</td>\n",
              "      <td>3.483871</td>\n",
              "      <td>1.206243</td>\n",
              "      <td>1.0</td>\n",
              "      <td>2.0</td>\n",
              "      <td>4.0</td>\n",
              "      <td>4.0</td>\n",
              "      <td>5.0</td>\n",
              "    </tr>\n",
              "    <tr>\n",
              "      <th>fav_cuisine_coded</th>\n",
              "      <td>125.0</td>\n",
              "      <td>2.424000</td>\n",
              "      <td>1.947968</td>\n",
              "      <td>0.0</td>\n",
              "      <td>1.0</td>\n",
              "      <td>1.0</td>\n",
              "      <td>4.0</td>\n",
              "      <td>8.0</td>\n",
              "    </tr>\n",
              "    <tr>\n",
              "      <th>fav_food</th>\n",
              "      <td>123.0</td>\n",
              "      <td>1.715447</td>\n",
              "      <td>0.910056</td>\n",
              "      <td>1.0</td>\n",
              "      <td>1.0</td>\n",
              "      <td>1.0</td>\n",
              "      <td>3.0</td>\n",
              "      <td>3.0</td>\n",
              "    </tr>\n",
              "    <tr>\n",
              "      <th>fries</th>\n",
              "      <td>125.0</td>\n",
              "      <td>1.088000</td>\n",
              "      <td>0.284435</td>\n",
              "      <td>1.0</td>\n",
              "      <td>1.0</td>\n",
              "      <td>1.0</td>\n",
              "      <td>1.0</td>\n",
              "      <td>2.0</td>\n",
              "    </tr>\n",
              "    <tr>\n",
              "      <th>fruit_day</th>\n",
              "      <td>125.0</td>\n",
              "      <td>4.224000</td>\n",
              "      <td>0.923388</td>\n",
              "      <td>1.0</td>\n",
              "      <td>4.0</td>\n",
              "      <td>5.0</td>\n",
              "      <td>5.0</td>\n",
              "      <td>5.0</td>\n",
              "    </tr>\n",
              "    <tr>\n",
              "      <th>grade_level</th>\n",
              "      <td>125.0</td>\n",
              "      <td>2.376000</td>\n",
              "      <td>1.133536</td>\n",
              "      <td>1.0</td>\n",
              "      <td>1.0</td>\n",
              "      <td>2.0</td>\n",
              "      <td>3.0</td>\n",
              "      <td>4.0</td>\n",
              "    </tr>\n",
              "    <tr>\n",
              "      <th>greek_food</th>\n",
              "      <td>125.0</td>\n",
              "      <td>3.488000</td>\n",
              "      <td>1.365567</td>\n",
              "      <td>1.0</td>\n",
              "      <td>3.0</td>\n",
              "      <td>4.0</td>\n",
              "      <td>5.0</td>\n",
              "      <td>5.0</td>\n",
              "    </tr>\n",
              "    <tr>\n",
              "      <th>healthy_feeling</th>\n",
              "      <td>125.0</td>\n",
              "      <td>5.456000</td>\n",
              "      <td>2.585643</td>\n",
              "      <td>1.0</td>\n",
              "      <td>3.0</td>\n",
              "      <td>5.0</td>\n",
              "      <td>8.0</td>\n",
              "      <td>10.0</td>\n",
              "    </tr>\n",
              "    <tr>\n",
              "      <th>ideal_diet_coded</th>\n",
              "      <td>125.0</td>\n",
              "      <td>3.704000</td>\n",
              "      <td>2.086918</td>\n",
              "      <td>1.0</td>\n",
              "      <td>2.0</td>\n",
              "      <td>3.0</td>\n",
              "      <td>6.0</td>\n",
              "      <td>8.0</td>\n",
              "    </tr>\n",
              "    <tr>\n",
              "      <th>income</th>\n",
              "      <td>124.0</td>\n",
              "      <td>4.532258</td>\n",
              "      <td>1.456332</td>\n",
              "      <td>1.0</td>\n",
              "      <td>4.0</td>\n",
              "      <td>5.0</td>\n",
              "      <td>6.0</td>\n",
              "      <td>6.0</td>\n",
              "    </tr>\n",
              "    <tr>\n",
              "      <th>indian_food</th>\n",
              "      <td>125.0</td>\n",
              "      <td>3.152000</td>\n",
              "      <td>1.486802</td>\n",
              "      <td>1.0</td>\n",
              "      <td>2.0</td>\n",
              "      <td>3.0</td>\n",
              "      <td>5.0</td>\n",
              "      <td>5.0</td>\n",
              "    </tr>\n",
              "    <tr>\n",
              "      <th>italian_food</th>\n",
              "      <td>125.0</td>\n",
              "      <td>4.728000</td>\n",
              "      <td>0.587175</td>\n",
              "      <td>3.0</td>\n",
              "      <td>5.0</td>\n",
              "      <td>5.0</td>\n",
              "      <td>5.0</td>\n",
              "      <td>5.0</td>\n",
              "    </tr>\n",
              "    <tr>\n",
              "      <th>life_rewarding</th>\n",
              "      <td>124.0</td>\n",
              "      <td>5.104839</td>\n",
              "      <td>3.120399</td>\n",
              "      <td>1.0</td>\n",
              "      <td>2.0</td>\n",
              "      <td>5.0</td>\n",
              "      <td>8.0</td>\n",
              "      <td>10.0</td>\n",
              "    </tr>\n",
              "    <tr>\n",
              "      <th>marital_status</th>\n",
              "      <td>124.0</td>\n",
              "      <td>1.500000</td>\n",
              "      <td>0.548464</td>\n",
              "      <td>1.0</td>\n",
              "      <td>1.0</td>\n",
              "      <td>1.0</td>\n",
              "      <td>2.0</td>\n",
              "      <td>4.0</td>\n",
              "    </tr>\n",
              "    <tr>\n",
              "      <th>mother_education</th>\n",
              "      <td>122.0</td>\n",
              "      <td>3.426230</td>\n",
              "      <td>1.170703</td>\n",
              "      <td>1.0</td>\n",
              "      <td>2.0</td>\n",
              "      <td>4.0</td>\n",
              "      <td>4.0</td>\n",
              "      <td>5.0</td>\n",
              "    </tr>\n",
              "    <tr>\n",
              "      <th>nutritional_check</th>\n",
              "      <td>125.0</td>\n",
              "      <td>3.152000</td>\n",
              "      <td>1.205204</td>\n",
              "      <td>1.0</td>\n",
              "      <td>2.0</td>\n",
              "      <td>3.0</td>\n",
              "      <td>4.0</td>\n",
              "      <td>5.0</td>\n",
              "    </tr>\n",
              "    <tr>\n",
              "      <th>on_off_campus</th>\n",
              "      <td>124.0</td>\n",
              "      <td>1.322581</td>\n",
              "      <td>0.681323</td>\n",
              "      <td>1.0</td>\n",
              "      <td>1.0</td>\n",
              "      <td>1.0</td>\n",
              "      <td>1.0</td>\n",
              "      <td>4.0</td>\n",
              "    </tr>\n",
              "    <tr>\n",
              "      <th>parents_cook</th>\n",
              "      <td>125.0</td>\n",
              "      <td>1.528000</td>\n",
              "      <td>0.746778</td>\n",
              "      <td>1.0</td>\n",
              "      <td>1.0</td>\n",
              "      <td>1.0</td>\n",
              "      <td>2.0</td>\n",
              "      <td>5.0</td>\n",
              "    </tr>\n",
              "    <tr>\n",
              "      <th>pay_meal_out</th>\n",
              "      <td>125.0</td>\n",
              "      <td>3.408000</td>\n",
              "      <td>1.040285</td>\n",
              "      <td>2.0</td>\n",
              "      <td>3.0</td>\n",
              "      <td>3.0</td>\n",
              "      <td>4.0</td>\n",
              "      <td>6.0</td>\n",
              "    </tr>\n",
              "    <tr>\n",
              "      <th>persian_food</th>\n",
              "      <td>124.0</td>\n",
              "      <td>2.806452</td>\n",
              "      <td>1.423824</td>\n",
              "      <td>1.0</td>\n",
              "      <td>2.0</td>\n",
              "      <td>3.0</td>\n",
              "      <td>4.0</td>\n",
              "      <td>5.0</td>\n",
              "    </tr>\n",
              "    <tr>\n",
              "      <th>self_perception_weight</th>\n",
              "      <td>124.0</td>\n",
              "      <td>3.120968</td>\n",
              "      <td>1.115980</td>\n",
              "      <td>1.0</td>\n",
              "      <td>2.0</td>\n",
              "      <td>3.0</td>\n",
              "      <td>4.0</td>\n",
              "      <td>6.0</td>\n",
              "    </tr>\n",
              "    <tr>\n",
              "      <th>soup</th>\n",
              "      <td>124.0</td>\n",
              "      <td>1.217742</td>\n",
              "      <td>0.414385</td>\n",
              "      <td>1.0</td>\n",
              "      <td>1.0</td>\n",
              "      <td>1.0</td>\n",
              "      <td>1.0</td>\n",
              "      <td>2.0</td>\n",
              "    </tr>\n",
              "    <tr>\n",
              "      <th>sports</th>\n",
              "      <td>123.0</td>\n",
              "      <td>1.390244</td>\n",
              "      <td>0.489800</td>\n",
              "      <td>1.0</td>\n",
              "      <td>1.0</td>\n",
              "      <td>1.0</td>\n",
              "      <td>2.0</td>\n",
              "      <td>2.0</td>\n",
              "    </tr>\n",
              "    <tr>\n",
              "      <th>thai_food</th>\n",
              "      <td>125.0</td>\n",
              "      <td>3.336000</td>\n",
              "      <td>1.436528</td>\n",
              "      <td>1.0</td>\n",
              "      <td>2.0</td>\n",
              "      <td>3.0</td>\n",
              "      <td>5.0</td>\n",
              "      <td>5.0</td>\n",
              "    </tr>\n",
              "    <tr>\n",
              "      <th>tortilla_calories</th>\n",
              "      <td>124.0</td>\n",
              "      <td>947.580645</td>\n",
              "      <td>202.090179</td>\n",
              "      <td>580.0</td>\n",
              "      <td>725.0</td>\n",
              "      <td>940.0</td>\n",
              "      <td>1165.0</td>\n",
              "      <td>1165.0</td>\n",
              "    </tr>\n",
              "    <tr>\n",
              "      <th>turkey_calories</th>\n",
              "      <td>125.0</td>\n",
              "      <td>555.040000</td>\n",
              "      <td>152.370379</td>\n",
              "      <td>345.0</td>\n",
              "      <td>500.0</td>\n",
              "      <td>500.0</td>\n",
              "      <td>690.0</td>\n",
              "      <td>850.0</td>\n",
              "    </tr>\n",
              "    <tr>\n",
              "      <th>veggies_day</th>\n",
              "      <td>125.0</td>\n",
              "      <td>4.008000</td>\n",
              "      <td>1.081337</td>\n",
              "      <td>1.0</td>\n",
              "      <td>3.0</td>\n",
              "      <td>4.0</td>\n",
              "      <td>5.0</td>\n",
              "      <td>5.0</td>\n",
              "    </tr>\n",
              "    <tr>\n",
              "      <th>vitamins</th>\n",
              "      <td>125.0</td>\n",
              "      <td>1.512000</td>\n",
              "      <td>0.501867</td>\n",
              "      <td>1.0</td>\n",
              "      <td>1.0</td>\n",
              "      <td>2.0</td>\n",
              "      <td>2.0</td>\n",
              "      <td>2.0</td>\n",
              "    </tr>\n",
              "    <tr>\n",
              "      <th>waffle_calories</th>\n",
              "      <td>125.0</td>\n",
              "      <td>1073.400000</td>\n",
              "      <td>248.667092</td>\n",
              "      <td>575.0</td>\n",
              "      <td>900.0</td>\n",
              "      <td>900.0</td>\n",
              "      <td>1315.0</td>\n",
              "      <td>1315.0</td>\n",
              "    </tr>\n",
              "  </tbody>\n",
              "</table>\n",
              "</div>\n",
              "    <div class=\"colab-df-buttons\">\n",
              "\n",
              "  <div class=\"colab-df-container\">\n",
              "    <button class=\"colab-df-convert\" onclick=\"convertToInteractive('df-dabceaa8-67d3-4b74-a47d-65188e1f85fe')\"\n",
              "            title=\"Convert this dataframe to an interactive table.\"\n",
              "            style=\"display:none;\">\n",
              "\n",
              "  <svg xmlns=\"http://www.w3.org/2000/svg\" height=\"24px\" viewBox=\"0 -960 960 960\">\n",
              "    <path d=\"M120-120v-720h720v720H120Zm60-500h600v-160H180v160Zm220 220h160v-160H400v160Zm0 220h160v-160H400v160ZM180-400h160v-160H180v160Zm440 0h160v-160H620v160ZM180-180h160v-160H180v160Zm440 0h160v-160H620v160Z\"/>\n",
              "  </svg>\n",
              "    </button>\n",
              "\n",
              "  <style>\n",
              "    .colab-df-container {\n",
              "      display:flex;\n",
              "      gap: 12px;\n",
              "    }\n",
              "\n",
              "    .colab-df-convert {\n",
              "      background-color: #E8F0FE;\n",
              "      border: none;\n",
              "      border-radius: 50%;\n",
              "      cursor: pointer;\n",
              "      display: none;\n",
              "      fill: #1967D2;\n",
              "      height: 32px;\n",
              "      padding: 0 0 0 0;\n",
              "      width: 32px;\n",
              "    }\n",
              "\n",
              "    .colab-df-convert:hover {\n",
              "      background-color: #E2EBFA;\n",
              "      box-shadow: 0px 1px 2px rgba(60, 64, 67, 0.3), 0px 1px 3px 1px rgba(60, 64, 67, 0.15);\n",
              "      fill: #174EA6;\n",
              "    }\n",
              "\n",
              "    .colab-df-buttons div {\n",
              "      margin-bottom: 4px;\n",
              "    }\n",
              "\n",
              "    [theme=dark] .colab-df-convert {\n",
              "      background-color: #3B4455;\n",
              "      fill: #D2E3FC;\n",
              "    }\n",
              "\n",
              "    [theme=dark] .colab-df-convert:hover {\n",
              "      background-color: #434B5C;\n",
              "      box-shadow: 0px 1px 3px 1px rgba(0, 0, 0, 0.15);\n",
              "      filter: drop-shadow(0px 1px 2px rgba(0, 0, 0, 0.3));\n",
              "      fill: #FFFFFF;\n",
              "    }\n",
              "  </style>\n",
              "\n",
              "    <script>\n",
              "      const buttonEl =\n",
              "        document.querySelector('#df-dabceaa8-67d3-4b74-a47d-65188e1f85fe button.colab-df-convert');\n",
              "      buttonEl.style.display =\n",
              "        google.colab.kernel.accessAllowed ? 'block' : 'none';\n",
              "\n",
              "      async function convertToInteractive(key) {\n",
              "        const element = document.querySelector('#df-dabceaa8-67d3-4b74-a47d-65188e1f85fe');\n",
              "        const dataTable =\n",
              "          await google.colab.kernel.invokeFunction('convertToInteractive',\n",
              "                                                    [key], {});\n",
              "        if (!dataTable) return;\n",
              "\n",
              "        const docLinkHtml = 'Like what you see? Visit the ' +\n",
              "          '<a target=\"_blank\" href=https://colab.research.google.com/notebooks/data_table.ipynb>data table notebook</a>'\n",
              "          + ' to learn more about interactive tables.';\n",
              "        element.innerHTML = '';\n",
              "        dataTable['output_type'] = 'display_data';\n",
              "        await google.colab.output.renderOutput(dataTable, element);\n",
              "        const docLink = document.createElement('div');\n",
              "        docLink.innerHTML = docLinkHtml;\n",
              "        element.appendChild(docLink);\n",
              "      }\n",
              "    </script>\n",
              "  </div>\n",
              "\n",
              "\n",
              "<div id=\"df-1b072325-2006-4427-9134-b42fe082a344\">\n",
              "  <button class=\"colab-df-quickchart\" onclick=\"quickchart('df-1b072325-2006-4427-9134-b42fe082a344')\"\n",
              "            title=\"Suggest charts.\"\n",
              "            style=\"display:none;\">\n",
              "\n",
              "<svg xmlns=\"http://www.w3.org/2000/svg\" height=\"24px\"viewBox=\"0 0 24 24\"\n",
              "     width=\"24px\">\n",
              "    <g>\n",
              "        <path d=\"M19 3H5c-1.1 0-2 .9-2 2v14c0 1.1.9 2 2 2h14c1.1 0 2-.9 2-2V5c0-1.1-.9-2-2-2zM9 17H7v-7h2v7zm4 0h-2V7h2v10zm4 0h-2v-4h2v4z\"/>\n",
              "    </g>\n",
              "</svg>\n",
              "  </button>\n",
              "\n",
              "<style>\n",
              "  .colab-df-quickchart {\n",
              "    background-color: #E8F0FE;\n",
              "    border: none;\n",
              "    border-radius: 50%;\n",
              "    cursor: pointer;\n",
              "    display: none;\n",
              "    fill: #1967D2;\n",
              "    height: 32px;\n",
              "    padding: 0 0 0 0;\n",
              "    width: 32px;\n",
              "  }\n",
              "\n",
              "  .colab-df-quickchart:hover {\n",
              "    background-color: #E2EBFA;\n",
              "    box-shadow: 0px 1px 2px rgba(60, 64, 67, 0.3), 0px 1px 3px 1px rgba(60, 64, 67, 0.15);\n",
              "    fill: #174EA6;\n",
              "  }\n",
              "\n",
              "  [theme=dark] .colab-df-quickchart {\n",
              "    background-color: #3B4455;\n",
              "    fill: #D2E3FC;\n",
              "  }\n",
              "\n",
              "  [theme=dark] .colab-df-quickchart:hover {\n",
              "    background-color: #434B5C;\n",
              "    box-shadow: 0px 1px 3px 1px rgba(0, 0, 0, 0.15);\n",
              "    filter: drop-shadow(0px 1px 2px rgba(0, 0, 0, 0.3));\n",
              "    fill: #FFFFFF;\n",
              "  }\n",
              "</style>\n",
              "\n",
              "  <script>\n",
              "    async function quickchart(key) {\n",
              "      const charts = await google.colab.kernel.invokeFunction(\n",
              "          'suggestCharts', [key], {});\n",
              "    }\n",
              "    (() => {\n",
              "      let quickchartButtonEl =\n",
              "        document.querySelector('#df-1b072325-2006-4427-9134-b42fe082a344 button');\n",
              "      quickchartButtonEl.style.display =\n",
              "        google.colab.kernel.accessAllowed ? 'block' : 'none';\n",
              "    })();\n",
              "  </script>\n",
              "</div>\n",
              "    </div>\n",
              "  </div>\n"
            ]
          },
          "metadata": {},
          "execution_count": 5
        }
      ]
    },
    {
      "cell_type": "markdown",
      "source": [
        "Dropping rows and columns."
      ],
      "metadata": {
        "id": "CHkriWJg0FDN"
      }
    },
    {
      "cell_type": "code",
      "source": [
        "df.drop(75, inplace=True)"
      ],
      "metadata": {
        "id": "HNqlId1w00TD"
      },
      "execution_count": null,
      "outputs": []
    },
    {
      "cell_type": "markdown",
      "source": [
        "**Reason** : majority categorical features have missing values."
      ],
      "metadata": {
        "id": "1ohYo4GV6e8D"
      }
    },
    {
      "cell_type": "markdown",
      "source": [
        "##### **Types of features - datatypes**"
      ],
      "metadata": {
        "id": "GNhqr2tjeaRq"
      }
    },
    {
      "cell_type": "code",
      "source": [
        "num_columns  = df.select_dtypes(include=[np.number]).columns\n",
        "cat_columns = df.select_dtypes(include='O').columns"
      ],
      "metadata": {
        "id": "RRLi3jcreez5"
      },
      "execution_count": null,
      "outputs": []
    },
    {
      "cell_type": "code",
      "source": [
        "num_columns"
      ],
      "metadata": {
        "colab": {
          "base_uri": "https://localhost:8080/"
        },
        "id": "6NbLcdatep0B",
        "outputId": "16b86bc4-0181-410e-e368-d6b6ff617823"
      },
      "execution_count": null,
      "outputs": [
        {
          "output_type": "execute_result",
          "data": {
            "text/plain": [
              "Index(['Gender', 'breakfast', 'calories_chicken', 'calories_day',\n",
              "       'calories_scone', 'coffee', 'comfort_food_reasons_coded', 'cook',\n",
              "       'comfort_food_reasons_coded.1', 'cuisine', 'diet_current_coded',\n",
              "       'drink', 'eating_changes_coded', 'eating_changes_coded1', 'eating_out',\n",
              "       'employment', 'ethnic_food', 'exercise', 'father_education',\n",
              "       'fav_cuisine_coded', 'fav_food', 'fries', 'fruit_day', 'grade_level',\n",
              "       'greek_food', 'healthy_feeling', 'ideal_diet_coded', 'income',\n",
              "       'indian_food', 'italian_food', 'life_rewarding', 'marital_status',\n",
              "       'mother_education', 'nutritional_check', 'on_off_campus',\n",
              "       'parents_cook', 'pay_meal_out', 'persian_food',\n",
              "       'self_perception_weight', 'soup', 'sports', 'thai_food',\n",
              "       'tortilla_calories', 'turkey_calories', 'veggies_day', 'vitamins',\n",
              "       'waffle_calories'],\n",
              "      dtype='object')"
            ]
          },
          "metadata": {},
          "execution_count": 8
        }
      ]
    },
    {
      "cell_type": "code",
      "source": [
        "len(num_columns)"
      ],
      "metadata": {
        "colab": {
          "base_uri": "https://localhost:8080/"
        },
        "id": "OCOl6pIJeszJ",
        "outputId": "9e2ed854-67d6-47b1-8f4a-d9504c315611"
      },
      "execution_count": null,
      "outputs": [
        {
          "output_type": "execute_result",
          "data": {
            "text/plain": [
              "47"
            ]
          },
          "metadata": {},
          "execution_count": 9
        }
      ]
    },
    {
      "cell_type": "code",
      "source": [
        "cat_columns"
      ],
      "metadata": {
        "colab": {
          "base_uri": "https://localhost:8080/"
        },
        "id": "FTWel35QfXKZ",
        "outputId": "08ffe55a-25ff-45c3-9c7e-523353329f35"
      },
      "execution_count": null,
      "outputs": [
        {
          "output_type": "execute_result",
          "data": {
            "text/plain": [
              "Index(['GPA', 'comfort_food', 'comfort_food_reasons', 'diet_current',\n",
              "       'eating_changes', 'father_profession', 'fav_cuisine', 'food_childhood',\n",
              "       'healthy_meal', 'ideal_diet', 'meals_dinner_friend',\n",
              "       'mother_profession', 'type_sports', 'weight'],\n",
              "      dtype='object')"
            ]
          },
          "metadata": {},
          "execution_count": 10
        }
      ]
    },
    {
      "cell_type": "code",
      "source": [
        "len(cat_columns)"
      ],
      "metadata": {
        "colab": {
          "base_uri": "https://localhost:8080/"
        },
        "id": "0SsVAB5-faca",
        "outputId": "711620f9-db5e-49c3-af4b-10d1914fe4fe"
      },
      "execution_count": null,
      "outputs": [
        {
          "output_type": "execute_result",
          "data": {
            "text/plain": [
              "14"
            ]
          },
          "metadata": {},
          "execution_count": 11
        }
      ]
    },
    {
      "cell_type": "markdown",
      "source": [
        "### **III. Preprocessing**"
      ],
      "metadata": {
        "id": "740vTZFYdCfY"
      }
    },
    {
      "cell_type": "markdown",
      "source": [
        "#### **1. Handling Missing Values**"
      ],
      "metadata": {
        "id": "18tNLqO6dI-J"
      }
    },
    {
      "cell_type": "code",
      "source": [
        "df.isnull().sum()"
      ],
      "metadata": {
        "colab": {
          "base_uri": "https://localhost:8080/"
        },
        "id": "BC71YU_XdIX5",
        "outputId": "eb80ca83-8b4f-4851-f02d-642b2c9e81fb"
      },
      "execution_count": null,
      "outputs": [
        {
          "output_type": "execute_result",
          "data": {
            "text/plain": [
              "GPA                  2\n",
              "Gender               0\n",
              "breakfast            0\n",
              "calories_chicken     0\n",
              "calories_day        19\n",
              "                    ..\n",
              "type_sports         21\n",
              "veggies_day          0\n",
              "vitamins             0\n",
              "waffle_calories      0\n",
              "weight               2\n",
              "Length: 61, dtype: int64"
            ]
          },
          "metadata": {},
          "execution_count": 12
        }
      ]
    },
    {
      "cell_type": "code",
      "source": [
        "missing_values = df.isnull().sum()\n",
        "missing_values_percentage = (df.isnull().sum() / len(df)) * 100"
      ],
      "metadata": {
        "id": "u2wKeTgMiDea"
      },
      "execution_count": null,
      "outputs": []
    },
    {
      "cell_type": "markdown",
      "source": [
        "Display columns with missing values and their percentage."
      ],
      "metadata": {
        "id": "4BioOBf4iIjW"
      }
    },
    {
      "cell_type": "code",
      "source": [
        "missing_data = pd.DataFrame({'Missing Values': missing_values, 'Percentage (%)': missing_values_percentage, 'Feature Datatype': df.dtypes})"
      ],
      "metadata": {
        "id": "-XFqPGcuiHHb"
      },
      "execution_count": null,
      "outputs": []
    },
    {
      "cell_type": "code",
      "source": [
        "missing_data[missing_data['Missing Values'] > 0].sort_values(by='Percentage (%)', ascending=False)"
      ],
      "metadata": {
        "colab": {
          "base_uri": "https://localhost:8080/",
          "height": 1000
        },
        "id": "XdrsN6U-iMKD",
        "outputId": "ea530fa0-4d76-4658-9427-f8722a23982f"
      },
      "execution_count": null,
      "outputs": [
        {
          "output_type": "execute_result",
          "data": {
            "text/plain": [
              "                            Missing Values  Percentage (%) Feature Datatype\n",
              "type_sports                             21       16.935484           object\n",
              "comfort_food_reasons_coded              19       15.322581          float64\n",
              "calories_day                            19       15.322581          float64\n",
              "cuisine                                 17       13.709677          float64\n",
              "exercise                                13       10.483871          float64\n",
              "employment                               9        7.258065          float64\n",
              "cook                                     3        2.419355          float64\n",
              "mother_education                         3        2.419355          float64\n",
              "meals_dinner_friend                      3        2.419355           object\n",
              "eating_changes                           3        2.419355           object\n",
              "father_profession                        3        2.419355           object\n",
              "GPA                                      2        1.612903           object\n",
              "fav_food                                 2        1.612903          float64\n",
              "sports                                   2        1.612903          float64\n",
              "mother_profession                        2        1.612903           object\n",
              "weight                                   2        1.612903           object\n",
              "fav_cuisine                              2        1.612903           object\n",
              "drink                                    2        1.612903          float64\n",
              "on_off_campus                            1        0.806452          float64\n",
              "calories_scone                           1        0.806452          float64\n",
              "tortilla_calories                        1        0.806452          float64\n",
              "comfort_food                             1        0.806452           object\n",
              "soup                                     1        0.806452          float64\n",
              "self_perception_weight                   1        0.806452          float64\n",
              "persian_food                             1        0.806452          float64\n",
              "comfort_food_reasons                     1        0.806452           object\n",
              "father_education                         1        0.806452          float64\n",
              "diet_current                             1        0.806452           object\n",
              "marital_status                           1        0.806452          float64\n",
              "life_rewarding                           1        0.806452          float64\n",
              "income                                   1        0.806452          float64\n",
              "ideal_diet                               1        0.806452           object\n",
              "healthy_meal                             1        0.806452           object\n",
              "food_childhood                           1        0.806452           object"
            ],
            "text/html": [
              "\n",
              "  <div id=\"df-08b69be5-26f2-4e60-b7c9-1775348648eb\" class=\"colab-df-container\">\n",
              "    <div>\n",
              "<style scoped>\n",
              "    .dataframe tbody tr th:only-of-type {\n",
              "        vertical-align: middle;\n",
              "    }\n",
              "\n",
              "    .dataframe tbody tr th {\n",
              "        vertical-align: top;\n",
              "    }\n",
              "\n",
              "    .dataframe thead th {\n",
              "        text-align: right;\n",
              "    }\n",
              "</style>\n",
              "<table border=\"1\" class=\"dataframe\">\n",
              "  <thead>\n",
              "    <tr style=\"text-align: right;\">\n",
              "      <th></th>\n",
              "      <th>Missing Values</th>\n",
              "      <th>Percentage (%)</th>\n",
              "      <th>Feature Datatype</th>\n",
              "    </tr>\n",
              "  </thead>\n",
              "  <tbody>\n",
              "    <tr>\n",
              "      <th>type_sports</th>\n",
              "      <td>21</td>\n",
              "      <td>16.935484</td>\n",
              "      <td>object</td>\n",
              "    </tr>\n",
              "    <tr>\n",
              "      <th>comfort_food_reasons_coded</th>\n",
              "      <td>19</td>\n",
              "      <td>15.322581</td>\n",
              "      <td>float64</td>\n",
              "    </tr>\n",
              "    <tr>\n",
              "      <th>calories_day</th>\n",
              "      <td>19</td>\n",
              "      <td>15.322581</td>\n",
              "      <td>float64</td>\n",
              "    </tr>\n",
              "    <tr>\n",
              "      <th>cuisine</th>\n",
              "      <td>17</td>\n",
              "      <td>13.709677</td>\n",
              "      <td>float64</td>\n",
              "    </tr>\n",
              "    <tr>\n",
              "      <th>exercise</th>\n",
              "      <td>13</td>\n",
              "      <td>10.483871</td>\n",
              "      <td>float64</td>\n",
              "    </tr>\n",
              "    <tr>\n",
              "      <th>employment</th>\n",
              "      <td>9</td>\n",
              "      <td>7.258065</td>\n",
              "      <td>float64</td>\n",
              "    </tr>\n",
              "    <tr>\n",
              "      <th>cook</th>\n",
              "      <td>3</td>\n",
              "      <td>2.419355</td>\n",
              "      <td>float64</td>\n",
              "    </tr>\n",
              "    <tr>\n",
              "      <th>mother_education</th>\n",
              "      <td>3</td>\n",
              "      <td>2.419355</td>\n",
              "      <td>float64</td>\n",
              "    </tr>\n",
              "    <tr>\n",
              "      <th>meals_dinner_friend</th>\n",
              "      <td>3</td>\n",
              "      <td>2.419355</td>\n",
              "      <td>object</td>\n",
              "    </tr>\n",
              "    <tr>\n",
              "      <th>eating_changes</th>\n",
              "      <td>3</td>\n",
              "      <td>2.419355</td>\n",
              "      <td>object</td>\n",
              "    </tr>\n",
              "    <tr>\n",
              "      <th>father_profession</th>\n",
              "      <td>3</td>\n",
              "      <td>2.419355</td>\n",
              "      <td>object</td>\n",
              "    </tr>\n",
              "    <tr>\n",
              "      <th>GPA</th>\n",
              "      <td>2</td>\n",
              "      <td>1.612903</td>\n",
              "      <td>object</td>\n",
              "    </tr>\n",
              "    <tr>\n",
              "      <th>fav_food</th>\n",
              "      <td>2</td>\n",
              "      <td>1.612903</td>\n",
              "      <td>float64</td>\n",
              "    </tr>\n",
              "    <tr>\n",
              "      <th>sports</th>\n",
              "      <td>2</td>\n",
              "      <td>1.612903</td>\n",
              "      <td>float64</td>\n",
              "    </tr>\n",
              "    <tr>\n",
              "      <th>mother_profession</th>\n",
              "      <td>2</td>\n",
              "      <td>1.612903</td>\n",
              "      <td>object</td>\n",
              "    </tr>\n",
              "    <tr>\n",
              "      <th>weight</th>\n",
              "      <td>2</td>\n",
              "      <td>1.612903</td>\n",
              "      <td>object</td>\n",
              "    </tr>\n",
              "    <tr>\n",
              "      <th>fav_cuisine</th>\n",
              "      <td>2</td>\n",
              "      <td>1.612903</td>\n",
              "      <td>object</td>\n",
              "    </tr>\n",
              "    <tr>\n",
              "      <th>drink</th>\n",
              "      <td>2</td>\n",
              "      <td>1.612903</td>\n",
              "      <td>float64</td>\n",
              "    </tr>\n",
              "    <tr>\n",
              "      <th>on_off_campus</th>\n",
              "      <td>1</td>\n",
              "      <td>0.806452</td>\n",
              "      <td>float64</td>\n",
              "    </tr>\n",
              "    <tr>\n",
              "      <th>calories_scone</th>\n",
              "      <td>1</td>\n",
              "      <td>0.806452</td>\n",
              "      <td>float64</td>\n",
              "    </tr>\n",
              "    <tr>\n",
              "      <th>tortilla_calories</th>\n",
              "      <td>1</td>\n",
              "      <td>0.806452</td>\n",
              "      <td>float64</td>\n",
              "    </tr>\n",
              "    <tr>\n",
              "      <th>comfort_food</th>\n",
              "      <td>1</td>\n",
              "      <td>0.806452</td>\n",
              "      <td>object</td>\n",
              "    </tr>\n",
              "    <tr>\n",
              "      <th>soup</th>\n",
              "      <td>1</td>\n",
              "      <td>0.806452</td>\n",
              "      <td>float64</td>\n",
              "    </tr>\n",
              "    <tr>\n",
              "      <th>self_perception_weight</th>\n",
              "      <td>1</td>\n",
              "      <td>0.806452</td>\n",
              "      <td>float64</td>\n",
              "    </tr>\n",
              "    <tr>\n",
              "      <th>persian_food</th>\n",
              "      <td>1</td>\n",
              "      <td>0.806452</td>\n",
              "      <td>float64</td>\n",
              "    </tr>\n",
              "    <tr>\n",
              "      <th>comfort_food_reasons</th>\n",
              "      <td>1</td>\n",
              "      <td>0.806452</td>\n",
              "      <td>object</td>\n",
              "    </tr>\n",
              "    <tr>\n",
              "      <th>father_education</th>\n",
              "      <td>1</td>\n",
              "      <td>0.806452</td>\n",
              "      <td>float64</td>\n",
              "    </tr>\n",
              "    <tr>\n",
              "      <th>diet_current</th>\n",
              "      <td>1</td>\n",
              "      <td>0.806452</td>\n",
              "      <td>object</td>\n",
              "    </tr>\n",
              "    <tr>\n",
              "      <th>marital_status</th>\n",
              "      <td>1</td>\n",
              "      <td>0.806452</td>\n",
              "      <td>float64</td>\n",
              "    </tr>\n",
              "    <tr>\n",
              "      <th>life_rewarding</th>\n",
              "      <td>1</td>\n",
              "      <td>0.806452</td>\n",
              "      <td>float64</td>\n",
              "    </tr>\n",
              "    <tr>\n",
              "      <th>income</th>\n",
              "      <td>1</td>\n",
              "      <td>0.806452</td>\n",
              "      <td>float64</td>\n",
              "    </tr>\n",
              "    <tr>\n",
              "      <th>ideal_diet</th>\n",
              "      <td>1</td>\n",
              "      <td>0.806452</td>\n",
              "      <td>object</td>\n",
              "    </tr>\n",
              "    <tr>\n",
              "      <th>healthy_meal</th>\n",
              "      <td>1</td>\n",
              "      <td>0.806452</td>\n",
              "      <td>object</td>\n",
              "    </tr>\n",
              "    <tr>\n",
              "      <th>food_childhood</th>\n",
              "      <td>1</td>\n",
              "      <td>0.806452</td>\n",
              "      <td>object</td>\n",
              "    </tr>\n",
              "  </tbody>\n",
              "</table>\n",
              "</div>\n",
              "    <div class=\"colab-df-buttons\">\n",
              "\n",
              "  <div class=\"colab-df-container\">\n",
              "    <button class=\"colab-df-convert\" onclick=\"convertToInteractive('df-08b69be5-26f2-4e60-b7c9-1775348648eb')\"\n",
              "            title=\"Convert this dataframe to an interactive table.\"\n",
              "            style=\"display:none;\">\n",
              "\n",
              "  <svg xmlns=\"http://www.w3.org/2000/svg\" height=\"24px\" viewBox=\"0 -960 960 960\">\n",
              "    <path d=\"M120-120v-720h720v720H120Zm60-500h600v-160H180v160Zm220 220h160v-160H400v160Zm0 220h160v-160H400v160ZM180-400h160v-160H180v160Zm440 0h160v-160H620v160ZM180-180h160v-160H180v160Zm440 0h160v-160H620v160Z\"/>\n",
              "  </svg>\n",
              "    </button>\n",
              "\n",
              "  <style>\n",
              "    .colab-df-container {\n",
              "      display:flex;\n",
              "      gap: 12px;\n",
              "    }\n",
              "\n",
              "    .colab-df-convert {\n",
              "      background-color: #E8F0FE;\n",
              "      border: none;\n",
              "      border-radius: 50%;\n",
              "      cursor: pointer;\n",
              "      display: none;\n",
              "      fill: #1967D2;\n",
              "      height: 32px;\n",
              "      padding: 0 0 0 0;\n",
              "      width: 32px;\n",
              "    }\n",
              "\n",
              "    .colab-df-convert:hover {\n",
              "      background-color: #E2EBFA;\n",
              "      box-shadow: 0px 1px 2px rgba(60, 64, 67, 0.3), 0px 1px 3px 1px rgba(60, 64, 67, 0.15);\n",
              "      fill: #174EA6;\n",
              "    }\n",
              "\n",
              "    .colab-df-buttons div {\n",
              "      margin-bottom: 4px;\n",
              "    }\n",
              "\n",
              "    [theme=dark] .colab-df-convert {\n",
              "      background-color: #3B4455;\n",
              "      fill: #D2E3FC;\n",
              "    }\n",
              "\n",
              "    [theme=dark] .colab-df-convert:hover {\n",
              "      background-color: #434B5C;\n",
              "      box-shadow: 0px 1px 3px 1px rgba(0, 0, 0, 0.15);\n",
              "      filter: drop-shadow(0px 1px 2px rgba(0, 0, 0, 0.3));\n",
              "      fill: #FFFFFF;\n",
              "    }\n",
              "  </style>\n",
              "\n",
              "    <script>\n",
              "      const buttonEl =\n",
              "        document.querySelector('#df-08b69be5-26f2-4e60-b7c9-1775348648eb button.colab-df-convert');\n",
              "      buttonEl.style.display =\n",
              "        google.colab.kernel.accessAllowed ? 'block' : 'none';\n",
              "\n",
              "      async function convertToInteractive(key) {\n",
              "        const element = document.querySelector('#df-08b69be5-26f2-4e60-b7c9-1775348648eb');\n",
              "        const dataTable =\n",
              "          await google.colab.kernel.invokeFunction('convertToInteractive',\n",
              "                                                    [key], {});\n",
              "        if (!dataTable) return;\n",
              "\n",
              "        const docLinkHtml = 'Like what you see? Visit the ' +\n",
              "          '<a target=\"_blank\" href=https://colab.research.google.com/notebooks/data_table.ipynb>data table notebook</a>'\n",
              "          + ' to learn more about interactive tables.';\n",
              "        element.innerHTML = '';\n",
              "        dataTable['output_type'] = 'display_data';\n",
              "        await google.colab.output.renderOutput(dataTable, element);\n",
              "        const docLink = document.createElement('div');\n",
              "        docLink.innerHTML = docLinkHtml;\n",
              "        element.appendChild(docLink);\n",
              "      }\n",
              "    </script>\n",
              "  </div>\n",
              "\n",
              "\n",
              "<div id=\"df-0e020cdd-0bac-4994-9b33-19376a98e465\">\n",
              "  <button class=\"colab-df-quickchart\" onclick=\"quickchart('df-0e020cdd-0bac-4994-9b33-19376a98e465')\"\n",
              "            title=\"Suggest charts.\"\n",
              "            style=\"display:none;\">\n",
              "\n",
              "<svg xmlns=\"http://www.w3.org/2000/svg\" height=\"24px\"viewBox=\"0 0 24 24\"\n",
              "     width=\"24px\">\n",
              "    <g>\n",
              "        <path d=\"M19 3H5c-1.1 0-2 .9-2 2v14c0 1.1.9 2 2 2h14c1.1 0 2-.9 2-2V5c0-1.1-.9-2-2-2zM9 17H7v-7h2v7zm4 0h-2V7h2v10zm4 0h-2v-4h2v4z\"/>\n",
              "    </g>\n",
              "</svg>\n",
              "  </button>\n",
              "\n",
              "<style>\n",
              "  .colab-df-quickchart {\n",
              "    background-color: #E8F0FE;\n",
              "    border: none;\n",
              "    border-radius: 50%;\n",
              "    cursor: pointer;\n",
              "    display: none;\n",
              "    fill: #1967D2;\n",
              "    height: 32px;\n",
              "    padding: 0 0 0 0;\n",
              "    width: 32px;\n",
              "  }\n",
              "\n",
              "  .colab-df-quickchart:hover {\n",
              "    background-color: #E2EBFA;\n",
              "    box-shadow: 0px 1px 2px rgba(60, 64, 67, 0.3), 0px 1px 3px 1px rgba(60, 64, 67, 0.15);\n",
              "    fill: #174EA6;\n",
              "  }\n",
              "\n",
              "  [theme=dark] .colab-df-quickchart {\n",
              "    background-color: #3B4455;\n",
              "    fill: #D2E3FC;\n",
              "  }\n",
              "\n",
              "  [theme=dark] .colab-df-quickchart:hover {\n",
              "    background-color: #434B5C;\n",
              "    box-shadow: 0px 1px 3px 1px rgba(0, 0, 0, 0.15);\n",
              "    filter: drop-shadow(0px 1px 2px rgba(0, 0, 0, 0.3));\n",
              "    fill: #FFFFFF;\n",
              "  }\n",
              "</style>\n",
              "\n",
              "  <script>\n",
              "    async function quickchart(key) {\n",
              "      const charts = await google.colab.kernel.invokeFunction(\n",
              "          'suggestCharts', [key], {});\n",
              "    }\n",
              "    (() => {\n",
              "      let quickchartButtonEl =\n",
              "        document.querySelector('#df-0e020cdd-0bac-4994-9b33-19376a98e465 button');\n",
              "      quickchartButtonEl.style.display =\n",
              "        google.colab.kernel.accessAllowed ? 'block' : 'none';\n",
              "    })();\n",
              "  </script>\n",
              "</div>\n",
              "    </div>\n",
              "  </div>\n"
            ]
          },
          "metadata": {},
          "execution_count": 15
        }
      ]
    },
    {
      "cell_type": "code",
      "source": [
        "missing_data.shape"
      ],
      "metadata": {
        "colab": {
          "base_uri": "https://localhost:8080/"
        },
        "id": "4uZnRIhL1C0e",
        "outputId": "6953948f-81c9-4331-85ed-4e2f73d8dfad"
      },
      "execution_count": null,
      "outputs": [
        {
          "output_type": "execute_result",
          "data": {
            "text/plain": [
              "(61, 3)"
            ]
          },
          "metadata": {},
          "execution_count": 16
        }
      ]
    },
    {
      "cell_type": "code",
      "source": [
        "sns.heatmap(df.isnull(), yticklabels=False, cmap=\"viridis\", cbar=False)"
      ],
      "metadata": {
        "colab": {
          "base_uri": "https://localhost:8080/",
          "height": 600
        },
        "id": "UqUD4_qQfsX6",
        "outputId": "a49fb83f-c1c9-4596-b019-dec06c6821d5"
      },
      "execution_count": null,
      "outputs": [
        {
          "output_type": "execute_result",
          "data": {
            "text/plain": [
              "<Axes: >"
            ]
          },
          "metadata": {},
          "execution_count": 17
        },
        {
          "output_type": "display_data",
          "data": {
            "text/plain": [
              "<Figure size 640x480 with 1 Axes>"
            ],
            "image/png": "[encoded data removed]"
          },
          "metadata": {}
        }
      ]
    },
    {
      "cell_type": "markdown",
      "source": [
        "##### **Missing values according to datatypes.**"
      ],
      "metadata": {
        "id": "hHagM-2xsNm9"
      }
    },
    {
      "cell_type": "code",
      "source": [
        "missing_columns = missing_values[missing_values > 0]"
      ],
      "metadata": {
        "id": "mJ-prUxKsaHk"
      },
      "execution_count": null,
      "outputs": []
    },
    {
      "cell_type": "code",
      "source": [
        "num_cols_missing = [col for col in missing_columns.index if df[col].dtype in ['int64', 'float64']]\n",
        "cat_cols_missing = [col for col in missing_columns.index if df[col].dtype == 'object']"
      ],
      "metadata": {
        "id": "6Cd3fkpUrsM0"
      },
      "execution_count": null,
      "outputs": []
    },
    {
      "cell_type": "markdown",
      "source": [
        "##### Handling Missing Values in numerical features."
      ],
      "metadata": {
        "id": "spBXwPgCv0IS"
      }
    },
    {
      "cell_type": "code",
      "source": [
        "num_cols_missing"
      ],
      "metadata": {
        "colab": {
          "base_uri": "https://localhost:8080/"
        },
        "id": "osgtOtt5ut_k",
        "outputId": "f85547c8-ea40-428e-a74c-a199fc067af9"
      },
      "execution_count": null,
      "outputs": [
        {
          "output_type": "execute_result",
          "data": {
            "text/plain": [
              "['calories_day',\n",
              " 'calories_scone',\n",
              " 'comfort_food_reasons_coded',\n",
              " 'cook',\n",
              " 'cuisine',\n",
              " 'drink',\n",
              " 'employment',\n",
              " 'exercise',\n",
              " 'father_education',\n",
              " 'fav_food',\n",
              " 'income',\n",
              " 'life_rewarding',\n",
              " 'marital_status',\n",
              " 'mother_education',\n",
              " 'on_off_campus',\n",
              " 'persian_food',\n",
              " 'self_perception_weight',\n",
              " 'soup',\n",
              " 'sports',\n",
              " 'tortilla_calories']"
            ]
          },
          "metadata": {},
          "execution_count": 20
        }
      ]
    },
    {
      "cell_type": "markdown",
      "source": [
        "Perform \"*Mode Imputation*\" for numerical features."
      ],
      "metadata": {
        "id": "WQI1c87stFPk"
      }
    },
    {
      "cell_type": "code",
      "source": [
        "for col in num_cols_missing:\n",
        "    mode_value = df[col].mode()[0]\n",
        "    df[col].fillna(mode_value, inplace=True)"
      ],
      "metadata": {
        "id": "S6bIWoIfrshk"
      },
      "execution_count": null,
      "outputs": []
    },
    {
      "cell_type": "code",
      "source": [
        "sns.heatmap(df.isnull(), yticklabels=False, cmap=\"viridis\", cbar=False)"
      ],
      "metadata": {
        "colab": {
          "base_uri": "https://localhost:8080/",
          "height": 600
        },
        "id": "gpuQlOEavJsk",
        "outputId": "b404baf2-3301-4db6-e07f-f1f55ec4a20c"
      },
      "execution_count": null,
      "outputs": [
        {
          "output_type": "execute_result",
          "data": {
            "text/plain": [
              "<Axes: >"
            ]
          },
          "metadata": {},
          "execution_count": 22
        },
        {
          "output_type": "display_data",
          "data": {
            "text/plain": [
              "<Figure size 640x480 with 1 Axes>"
            ],
            "image/png": "[encoded data removed]"
          },
          "metadata": {}
        }
      ]
    },
    {
      "cell_type": "markdown",
      "source": [
        "##### Handling Missing Values in Categorical Features."
      ],
      "metadata": {
        "id": "7qt7vjoSv-Fy"
      }
    },
    {
      "cell_type": "code",
      "source": [
        "cat_cols_missing"
      ],
      "metadata": {
        "colab": {
          "base_uri": "https://localhost:8080/"
        },
        "id": "65CUnkmGvTnd",
        "outputId": "8ba0376f-9d5a-4454-aee4-0518efdd19a7"
      },
      "execution_count": null,
      "outputs": [
        {
          "output_type": "execute_result",
          "data": {
            "text/plain": [
              "['GPA',\n",
              " 'comfort_food',\n",
              " 'comfort_food_reasons',\n",
              " 'diet_current',\n",
              " 'eating_changes',\n",
              " 'father_profession',\n",
              " 'fav_cuisine',\n",
              " 'food_childhood',\n",
              " 'healthy_meal',\n",
              " 'ideal_diet',\n",
              " 'meals_dinner_friend',\n",
              " 'mother_profession',\n",
              " 'type_sports',\n",
              " 'weight']"
            ]
          },
          "metadata": {},
          "execution_count": 23
        }
      ]
    },
    {
      "cell_type": "markdown",
      "source": [
        "Perform \"*Constant Value Imputation*\" on the categorical features."
      ],
      "metadata": {
        "id": "A5AQXaKh4qHL"
      }
    },
    {
      "cell_type": "code",
      "source": [
        "for col in cat_cols_missing:\n",
        "    df[col].fillna(\"Unknown\", inplace=True)"
      ],
      "metadata": {
        "id": "8vZJK-wwwqWl"
      },
      "execution_count": null,
      "outputs": []
    },
    {
      "cell_type": "code",
      "source": [
        "sns.heatmap(df.isnull(), yticklabels=False, cmap=\"viridis\", cbar=False)"
      ],
      "metadata": {
        "colab": {
          "base_uri": "https://localhost:8080/",
          "height": 600
        },
        "id": "hGiPTk-L5xdx",
        "outputId": "a4d17efa-b428-49f9-bd64-7a2b5b2d4870"
      },
      "execution_count": null,
      "outputs": [
        {
          "output_type": "execute_result",
          "data": {
            "text/plain": [
              "<Axes: >"
            ]
          },
          "metadata": {},
          "execution_count": 25
        },
        {
          "output_type": "display_data",
          "data": {
            "text/plain": [
              "<Figure size 640x480 with 1 Axes>"
            ],
            "image/png": "[encoded data removed]"
          },
          "metadata": {}
        }
      ]
    },
    {
      "cell_type": "code",
      "source": [
        "df.isnull().all().any()"
      ],
      "metadata": {
        "colab": {
          "base_uri": "https://localhost:8080/"
        },
        "id": "v417GAgv5zW0",
        "outputId": "f25f766a-989d-45cc-fb44-73e2d886ceb1"
      },
      "execution_count": null,
      "outputs": [
        {
          "output_type": "execute_result",
          "data": {
            "text/plain": [
              "False"
            ]
          },
          "metadata": {},
          "execution_count": 26
        }
      ]
    },
    {
      "cell_type": "markdown",
      "source": [
        "Successfully, handled missing values (both numerical and categorical)"
      ],
      "metadata": {
        "id": "NNdGR76r7JSI"
      }
    },
    {
      "cell_type": "markdown",
      "source": [
        "#### **2. Handling Unique Values**"
      ],
      "metadata": {
        "id": "znKTQCo5Fzfz"
      }
    },
    {
      "cell_type": "code",
      "source": [
        "unique_values = df.nunique()\n",
        "unique_values = pd.DataFrame({'Count': unique_values})"
      ],
      "metadata": {
        "id": "QCHQ1UDIFpN7"
      },
      "execution_count": null,
      "outputs": []
    },
    {
      "cell_type": "code",
      "source": [
        "unique_values[unique_values['Count'] > 0].sort_values(by='Count', ascending=False)"
      ],
      "metadata": {
        "colab": {
          "base_uri": "https://localhost:8080/",
          "height": 423
        },
        "id": "RCiOATr4FpLE",
        "outputId": "16852295-4605-407d-8be8-8eb0da229cb2"
      },
      "execution_count": null,
      "outputs": [
        {
          "output_type": "execute_result",
          "data": {
            "text/plain": [
              "                     Count\n",
              "diet_current           124\n",
              "ideal_diet             124\n",
              "comfort_food           124\n",
              "healthy_meal           123\n",
              "meals_dinner_friend    121\n",
              "...                    ...\n",
              "fries                    2\n",
              "drink                    2\n",
              "breakfast                2\n",
              "Gender                   2\n",
              "vitamins                 2\n",
              "\n",
              "[61 rows x 1 columns]"
            ],
            "text/html": [
              "\n",
              "  <div id=\"df-ed1650f6-bade-4745-bce3-66fa02258007\" class=\"colab-df-container\">\n",
              "    <div>\n",
              "<style scoped>\n",
              "    .dataframe tbody tr th:only-of-type {\n",
              "        vertical-align: middle;\n",
              "    }\n",
              "\n",
              "    .dataframe tbody tr th {\n",
              "        vertical-align: top;\n",
              "    }\n",
              "\n",
              "    .dataframe thead th {\n",
              "        text-align: right;\n",
              "    }\n",
              "</style>\n",
              "<table border=\"1\" class=\"dataframe\">\n",
              "  <thead>\n",
              "    <tr style=\"text-align: right;\">\n",
              "      <th></th>\n",
              "      <th>Count</th>\n",
              "    </tr>\n",
              "  </thead>\n",
              "  <tbody>\n",
              "    <tr>\n",
              "      <th>diet_current</th>\n",
              "      <td>124</td>\n",
              "    </tr>\n",
              "    <tr>\n",
              "      <th>ideal_diet</th>\n",
              "      <td>124</td>\n",
              "    </tr>\n",
              "    <tr>\n",
              "      <th>comfort_food</th>\n",
              "      <td>124</td>\n",
              "    </tr>\n",
              "    <tr>\n",
              "      <th>healthy_meal</th>\n",
              "      <td>123</td>\n",
              "    </tr>\n",
              "    <tr>\n",
              "      <th>meals_dinner_friend</th>\n",
              "      <td>121</td>\n",
              "    </tr>\n",
              "    <tr>\n",
              "      <th>...</th>\n",
              "      <td>...</td>\n",
              "    </tr>\n",
              "    <tr>\n",
              "      <th>fries</th>\n",
              "      <td>2</td>\n",
              "    </tr>\n",
              "    <tr>\n",
              "      <th>drink</th>\n",
              "      <td>2</td>\n",
              "    </tr>\n",
              "    <tr>\n",
              "      <th>breakfast</th>\n",
              "      <td>2</td>\n",
              "    </tr>\n",
              "    <tr>\n",
              "      <th>Gender</th>\n",
              "      <td>2</td>\n",
              "    </tr>\n",
              "    <tr>\n",
              "      <th>vitamins</th>\n",
              "      <td>2</td>\n",
              "    </tr>\n",
              "  </tbody>\n",
              "</table>\n",
              "<p>61 rows × 1 columns</p>\n",
              "</div>\n",
              "    <div class=\"colab-df-buttons\">\n",
              "\n",
              "  <div class=\"colab-df-container\">\n",
              "    <button class=\"colab-df-convert\" onclick=\"convertToInteractive('df-ed1650f6-bade-4745-bce3-66fa02258007')\"\n",
              "            title=\"Convert this dataframe to an interactive table.\"\n",
              "            style=\"display:none;\">\n",
              "\n",
              "  <svg xmlns=\"http://www.w3.org/2000/svg\" height=\"24px\" viewBox=\"0 -960 960 960\">\n",
              "    <path d=\"M120-120v-720h720v720H120Zm60-500h600v-160H180v160Zm220 220h160v-160H400v160Zm0 220h160v-160H400v160ZM180-400h160v-160H180v160Zm440 0h160v-160H620v160ZM180-180h160v-160H180v160Zm440 0h160v-160H620v160Z\"/>\n",
              "  </svg>\n",
              "    </button>\n",
              "\n",
              "  <style>\n",
              "    .colab-df-container {\n",
              "      display:flex;\n",
              "      gap: 12px;\n",
              "    }\n",
              "\n",
              "    .colab-df-convert {\n",
              "      background-color: #E8F0FE;\n",
              "      border: none;\n",
              "      border-radius: 50%;\n",
              "      cursor: pointer;\n",
              "      display: none;\n",
              "      fill: #1967D2;\n",
              "      height: 32px;\n",
              "      padding: 0 0 0 0;\n",
              "      width: 32px;\n",
              "    }\n",
              "\n",
              "    .colab-df-convert:hover {\n",
              "      background-color: #E2EBFA;\n",
              "      box-shadow: 0px 1px 2px rgba(60, 64, 67, 0.3), 0px 1px 3px 1px rgba(60, 64, 67, 0.15);\n",
              "      fill: #174EA6;\n",
              "    }\n",
              "\n",
              "    .colab-df-buttons div {\n",
              "      margin-bottom: 4px;\n",
              "    }\n",
              "\n",
              "    [theme=dark] .colab-df-convert {\n",
              "      background-color: #3B4455;\n",
              "      fill: #D2E3FC;\n",
              "    }\n",
              "\n",
              "    [theme=dark] .colab-df-convert:hover {\n",
              "      background-color: #434B5C;\n",
              "      box-shadow: 0px 1px 3px 1px rgba(0, 0, 0, 0.15);\n",
              "      filter: drop-shadow(0px 1px 2px rgba(0, 0, 0, 0.3));\n",
              "      fill: #FFFFFF;\n",
              "    }\n",
              "  </style>\n",
              "\n",
              "    <script>\n",
              "      const buttonEl =\n",
              "        document.querySelector('#df-ed1650f6-bade-4745-bce3-66fa02258007 button.colab-df-convert');\n",
              "      buttonEl.style.display =\n",
              "        google.colab.kernel.accessAllowed ? 'block' : 'none';\n",
              "\n",
              "      async function convertToInteractive(key) {\n",
              "        const element = document.querySelector('#df-ed1650f6-bade-4745-bce3-66fa02258007');\n",
              "        const dataTable =\n",
              "          await google.colab.kernel.invokeFunction('convertToInteractive',\n",
              "                                                    [key], {});\n",
              "        if (!dataTable) return;\n",
              "\n",
              "        const docLinkHtml = 'Like what you see? Visit the ' +\n",
              "          '<a target=\"_blank\" href=https://colab.research.google.com/notebooks/data_table.ipynb>data table notebook</a>'\n",
              "          + ' to learn more about interactive tables.';\n",
              "        element.innerHTML = '';\n",
              "        dataTable['output_type'] = 'display_data';\n",
              "        await google.colab.output.renderOutput(dataTable, element);\n",
              "        const docLink = document.createElement('div');\n",
              "        docLink.innerHTML = docLinkHtml;\n",
              "        element.appendChild(docLink);\n",
              "      }\n",
              "    </script>\n",
              "  </div>\n",
              "\n",
              "\n",
              "<div id=\"df-d1da2abd-99fb-42a2-81b7-d3b279b32e98\">\n",
              "  <button class=\"colab-df-quickchart\" onclick=\"quickchart('df-d1da2abd-99fb-42a2-81b7-d3b279b32e98')\"\n",
              "            title=\"Suggest charts.\"\n",
              "            style=\"display:none;\">\n",
              "\n",
              "<svg xmlns=\"http://www.w3.org/2000/svg\" height=\"24px\"viewBox=\"0 0 24 24\"\n",
              "     width=\"24px\">\n",
              "    <g>\n",
              "        <path d=\"M19 3H5c-1.1 0-2 .9-2 2v14c0 1.1.9 2 2 2h14c1.1 0 2-.9 2-2V5c0-1.1-.9-2-2-2zM9 17H7v-7h2v7zm4 0h-2V7h2v10zm4 0h-2v-4h2v4z\"/>\n",
              "    </g>\n",
              "</svg>\n",
              "  </button>\n",
              "\n",
              "<style>\n",
              "  .colab-df-quickchart {\n",
              "    background-color: #E8F0FE;\n",
              "    border: none;\n",
              "    border-radius: 50%;\n",
              "    cursor: pointer;\n",
              "    display: none;\n",
              "    fill: #1967D2;\n",
              "    height: 32px;\n",
              "    padding: 0 0 0 0;\n",
              "    width: 32px;\n",
              "  }\n",
              "\n",
              "  .colab-df-quickchart:hover {\n",
              "    background-color: #E2EBFA;\n",
              "    box-shadow: 0px 1px 2px rgba(60, 64, 67, 0.3), 0px 1px 3px 1px rgba(60, 64, 67, 0.15);\n",
              "    fill: #174EA6;\n",
              "  }\n",
              "\n",
              "  [theme=dark] .colab-df-quickchart {\n",
              "    background-color: #3B4455;\n",
              "    fill: #D2E3FC;\n",
              "  }\n",
              "\n",
              "  [theme=dark] .colab-df-quickchart:hover {\n",
              "    background-color: #434B5C;\n",
              "    box-shadow: 0px 1px 3px 1px rgba(0, 0, 0, 0.15);\n",
              "    filter: drop-shadow(0px 1px 2px rgba(0, 0, 0, 0.3));\n",
              "    fill: #FFFFFF;\n",
              "  }\n",
              "</style>\n",
              "\n",
              "  <script>\n",
              "    async function quickchart(key) {\n",
              "      const charts = await google.colab.kernel.invokeFunction(\n",
              "          'suggestCharts', [key], {});\n",
              "    }\n",
              "    (() => {\n",
              "      let quickchartButtonEl =\n",
              "        document.querySelector('#df-d1da2abd-99fb-42a2-81b7-d3b279b32e98 button');\n",
              "      quickchartButtonEl.style.display =\n",
              "        google.colab.kernel.accessAllowed ? 'block' : 'none';\n",
              "    })();\n",
              "  </script>\n",
              "</div>\n",
              "    </div>\n",
              "  </div>\n"
            ]
          },
          "metadata": {},
          "execution_count": 28
        }
      ]
    },
    {
      "cell_type": "code",
      "source": [],
      "metadata": {
        "id": "gE4El3EqF6_-"
      },
      "execution_count": null,
      "outputs": []
    },
    {
      "cell_type": "markdown",
      "source": [
        "#### **3. Handling Outliers using IQR method**"
      ],
      "metadata": {
        "id": "0hSdjWfsEatS"
      }
    },
    {
      "cell_type": "code",
      "source": [
        "# def handle_outliers(df, col):\n",
        "#     Q1 = df[col].quantile(0.25)\n",
        "#     Q3 = df[col].quantile(0.75)\n",
        "#     IQR = Q3 - Q1\n",
        "#     lower_bound = Q1 - 1.5 * IQR\n",
        "#     upper_bound = Q3 + 1.5 * IQR\n",
        "\n",
        "#     # Replace outliers with NaN for now\n",
        "#     df[col] = np.where((df[col] < lower_bound) | (df[col] > upper_bound), np.nan, df[col])\n",
        "#     return df\n"
      ],
      "metadata": {
        "id": "TuDNDXvGEXjq"
      },
      "execution_count": null,
      "outputs": []
    },
    {
      "cell_type": "markdown",
      "source": [
        "List of numerical columns."
      ],
      "metadata": {
        "id": "yLVq-lECE_FE"
      }
    },
    {
      "cell_type": "code",
      "source": [
        "num_columns"
      ],
      "metadata": {
        "colab": {
          "base_uri": "https://localhost:8080/"
        },
        "id": "R-1CFlhGE9gD",
        "outputId": "de7dd534-7989-4f58-c629-301820923e7e"
      },
      "execution_count": null,
      "outputs": [
        {
          "output_type": "execute_result",
          "data": {
            "text/plain": [
              "Index(['Gender', 'breakfast', 'calories_chicken', 'calories_day',\n",
              "       'calories_scone', 'coffee', 'comfort_food_reasons_coded', 'cook',\n",
              "       'comfort_food_reasons_coded.1', 'cuisine', 'diet_current_coded',\n",
              "       'drink', 'eating_changes_coded', 'eating_changes_coded1', 'eating_out',\n",
              "       'employment', 'ethnic_food', 'exercise', 'father_education',\n",
              "       'fav_cuisine_coded', 'fav_food', 'fries', 'fruit_day', 'grade_level',\n",
              "       'greek_food', 'healthy_feeling', 'ideal_diet_coded', 'income',\n",
              "       'indian_food', 'italian_food', 'life_rewarding', 'marital_status',\n",
              "       'mother_education', 'nutritional_check', 'on_off_campus',\n",
              "       'parents_cook', 'pay_meal_out', 'persian_food',\n",
              "       'self_perception_weight', 'soup', 'sports', 'thai_food',\n",
              "       'tortilla_calories', 'turkey_calories', 'veggies_day', 'vitamins',\n",
              "       'waffle_calories'],\n",
              "      dtype='object')"
            ]
          },
          "metadata": {},
          "execution_count": 30
        }
      ]
    },
    {
      "cell_type": "code",
      "source": [
        "num_columns.shape"
      ],
      "metadata": {
        "colab": {
          "base_uri": "https://localhost:8080/"
        },
        "id": "ed26OwGQ7ZLU",
        "outputId": "b754cf51-1a6a-48e0-9ef4-aab11eff48f7"
      },
      "execution_count": null,
      "outputs": [
        {
          "output_type": "execute_result",
          "data": {
            "text/plain": [
              "(47,)"
            ]
          },
          "metadata": {},
          "execution_count": 31
        }
      ]
    },
    {
      "cell_type": "markdown",
      "source": [
        "#### **4. Encoding Mapping**"
      ],
      "metadata": {
        "id": "7mlzHCt_9u1O"
      }
    },
    {
      "cell_type": "markdown",
      "source": [
        "**Reason :** The dataset contains numerical codes representing categorical data. Encoding these codes to their descriptive labels improves data interpretability, enhances visualizations, and ensures consistency across the dataset."
      ],
      "metadata": {
        "id": "KzC8gKJ0ACG3"
      }
    },
    {
      "cell_type": "code",
      "source": [
        "df['Gender']"
      ],
      "metadata": {
        "colab": {
          "base_uri": "https://localhost:8080/"
        },
        "id": "hkpuWwuG_-UW",
        "outputId": "5adcf78f-6f75-4c83-fd62-44b50dbc30cb"
      },
      "execution_count": null,
      "outputs": [
        {
          "output_type": "execute_result",
          "data": {
            "text/plain": [
              "0      2\n",
              "1      1\n",
              "2      1\n",
              "3      1\n",
              "4      1\n",
              "      ..\n",
              "120    1\n",
              "121    1\n",
              "122    1\n",
              "123    2\n",
              "124    1\n",
              "Name: Gender, Length: 124, dtype: int64"
            ]
          },
          "metadata": {},
          "execution_count": 32
        }
      ]
    },
    {
      "cell_type": "code",
      "source": [
        "encoding_mapping = {\n",
        "    'Gender': {1: \"Female\", 2: \"Male\"},\n",
        "\n",
        "    'breakfast': {1: \"Cereal Option\", 2: \"Donut Option\"},\n",
        "\n",
        "    'calories_chicken': {1: \"265\", 2: \"430\", 3: \"610\", 4: \"720\"},\n",
        "\n",
        "    'calories_day': {1: \"Don't know\", 2: \"Not important\", 3: \"Moderately important\", 4: \"Very important\"},\n",
        "\n",
        "    'coffee': {1: \"Creamy Frappuccino\", 2: \"Espresso\"},\n",
        "\n",
        "    'calories_scone': {1: \"107\", 2: \"315\", 3: \"420\", 4: \"980\"},\n",
        "\n",
        "    'comfort_food_reasons_coded': {1: \"Stress\", 2: \"Boredom\", 3: \"Depression/Sadness\", 4: \"Hunger\",\n",
        "                                  5: \"Laziness\", 6: \"Cold Weather\", 7: \"Happiness\", 8: \"Watching TV\", 9: \"None\"},\n",
        "\n",
        "    'cook': {1: \"Every day\", 2: \"A couple of times a week\", 3: \"Whenever I can, but not very often\",\n",
        "             4: \"I only assist occasionally during holidays\", 5: \"Never\"},\n",
        "\n",
        "    'cuisine': {1: \"American\",\n",
        "                2: \"Mexican/Spanish\",\n",
        "                3: \"Korean/Asian\",\n",
        "                4: \"Indian\",\n",
        "                5: \"American-inspired international dishes\",\n",
        "                6: \"Other\"},\n",
        "\n",
        "    'drink': {1: \"Orange juice\", 2: \"Soda\"},\n",
        "\n",
        "    'eating_changes_coded': {1: \"worse\", 2: \"better\", 3: \"the same\", 4: \"unclear\"},\n",
        "\n",
        "    'eating_out': {1: \"Never\", 2: \"1-2 times\", 3: \"2-3 times\", 4: \"3-5 times\", 5: \"every day\"},\n",
        "\n",
        "    'employment': {1: \"yes full time\", 2: \"yes part time\", 3: \"no\", 4: \"other\"},\n",
        "\n",
        "    'ethnic_food': {1: \"very unlikely\", 2: \"unlikely\", 3: \"neutral\", 4: \"likely\", 5: \"very likely\"},\n",
        "\n",
        "    'exercise': {1: \"Everyday\", 2: \"Twice or three times per week\", 3: \"Once a week\", 4: \"Sometimes\", 5: \"Never\"},\n",
        "\n",
        "    'father_education': {1: \"less than high school\",\n",
        "                         2: \"high school degree\",\n",
        "                         3: \"some college degree\",\n",
        "                         4: \"college degree\",\n",
        "                         5: \"graduate degree\"},\n",
        "\n",
        "    'fav_food': {1: \"cooked at home\", 2: \"store bought\", 3: \"both bought at store and cooked at home\"},\n",
        "\n",
        "    'fries': {1: \"Mcdonald’s fries\", 2: \"home fries\"},\n",
        "\n",
        "    'fruit_day': {1: \"very unlikely\", 2: \"unlikely\", 3: \"neutral\", 4: \"likely\", 5: \"very likely\"},\n",
        "\n",
        "    'grade_level': {1: \"freshman\", 2: \"Sophomore\", 3: \"Junior\", 4: \"Senior\"},\n",
        "\n",
        "    'greek_food': {1: \"very unlikely\", 2: \"unlikely\", 3: \"neutral\", 4: \"likely\", 5: \"very likely\"},\n",
        "\n",
        "    'ideal_diet_coded': {\n",
        "        1: \"portion control\",\n",
        "        2: \"adding veggies/eating healthier food/adding fruit\",\n",
        "        3: \"balance\",\n",
        "        4: \"less sugar\",\n",
        "        5: \"home cooked/organic\",\n",
        "        6: \"current diet\",\n",
        "        7: \"more protein\",\n",
        "        8: \"unclear\"\n",
        "    },\n",
        "\n",
        "    'income': {\n",
        "        1: \"< $15,000\",\n",
        "        2: \"$15,001 - $30,000\",\n",
        "        3: \"$30,001 - $50,000\",\n",
        "        4: \"$50,001 - $70,000\",\n",
        "        5: \"$70,001 - $100,000\",\n",
        "        6: \"> $100,000\"\n",
        "    },\n",
        "\n",
        "    'indian_food': {1: \"very unlikely\", 2: \"unlikely\", 3: \"neutral\", 4: \"likely\", 5: \"very likely\"},\n",
        "\n",
        "    'italian_food': {1: \"very unlikely\", 2: \"unlikely\", 3: \"neutral\", 4: \"likely\", 5: \"very likely\"},\n",
        "\n",
        "    'marital_status': {\n",
        "        1: \"Single\",\n",
        "        2: \"In a relationship\",\n",
        "        3: \"Cohabiting\",\n",
        "        4: \"Married\",\n",
        "        5: \"Divorced\",\n",
        "        6: \"Widowed\"\n",
        "    },\n",
        "\n",
        "    'mother_education': {\n",
        "        1: \"less than high school\",\n",
        "        2: \"high school degree\",\n",
        "        3: \"some college degree\",\n",
        "        4: \"college degree\",\n",
        "        5: \"graduate degree\"\n",
        "    },\n",
        "\n",
        "    'nutritional_check': {\n",
        "        1: \"never\",\n",
        "        2: \"on certain products only\",\n",
        "        3: \"very rarely\",\n",
        "        4: \"on most products\",\n",
        "        5: \"on everything\"\n",
        "    },\n",
        "\n",
        "    'on_off_campus': {\n",
        "        1: \"On campus\",\n",
        "        2: \"Rent out of campus\",\n",
        "        3: \"Live with my parents and commute\",\n",
        "        4: \"Own my own house\"\n",
        "    },\n",
        "\n",
        "    'parents_cook': {\n",
        "        1: \"Almost every day\",\n",
        "        2: \"2-3 times a week\",\n",
        "        3: \"1-2 times a week\",\n",
        "        4: \"on holidays only\",\n",
        "        5: \"never\"\n",
        "    },\n",
        "\n",
        "    'pay_meal_out': {\n",
        "        1: \"< $5.00\",\n",
        "        2: \"$5.01 - $10.00\",\n",
        "        3: \"$10.01 - $20.00\",\n",
        "        4: \"$20.01 - $30.00\",\n",
        "        5: \"$30.01 - $40.00\",\n",
        "        6: \"> $40.01\"\n",
        "    },\n",
        "\n",
        "    'persian_food': {1: \"very unlikely\", 2: \"unlikely\", 3: \"neutral\", 4: \"likely\", 5: \"very likely\"},\n",
        "\n",
        "    'self_perception_weight': {\n",
        "        1: \"slim\",\n",
        "        2: \"very fit\",\n",
        "        3: \"just right\",\n",
        "        4: \"slightly overweight\",\n",
        "        5: \"overweight\",\n",
        "        6: \"don't think of myself in these terms\"\n",
        "    },\n",
        "\n",
        "    'soup': {1: \"veggie soup\", 2: \"creamy soup\"},\n",
        "\n",
        "    'sports': {1: \"Yes\", 2: \"No\", 99: \"No answer\"},\n",
        "\n",
        "    'thai_food': {1: \"very unlikely\", 2: \"unlikely\", 3: \"neutral\", 4: \"likely\", 5: \"very likely\"},\n",
        "\n",
        "    'tortilla_calories': {1: \"580\", 2: \"725\", 3: \"940\", 4: \"1165\"},\n",
        "\n",
        "    'turkey_calories': {1: \"345\", 2: \"500\", 3: \"690\", 4: \"850\"},\n",
        "\n",
        "    'veggies_day': {1: \"very unlikely\", 2: \"unlikely\", 3: \"neutral\", 4: \"likely\", 5: \"very likely\"},\n",
        "\n",
        "    'vitamins': {1: \"yes\", 2: \"no\"},\n",
        "\n",
        "    'waffle_calories': {1: \"575\", 2: \"760\", 3: \"900\", 4: \"1315\"}\n",
        "}\n"
      ],
      "metadata": {
        "id": "itRDa-Fk9vP-"
      },
      "execution_count": null,
      "outputs": []
    },
    {
      "cell_type": "code",
      "source": [
        "for column, mapping in encoding_mapping.items():\n",
        "    df[column] = df[column].replace(mapping)"
      ],
      "metadata": {
        "id": "4rWf4QuD_bf1"
      },
      "execution_count": null,
      "outputs": []
    },
    {
      "cell_type": "code",
      "source": [
        "df['Gender']"
      ],
      "metadata": {
        "colab": {
          "base_uri": "https://localhost:8080/"
        },
        "id": "vHZUwquK_3Qu",
        "outputId": "722c3185-46a7-4f9a-f930-8aff829993d9"
      },
      "execution_count": null,
      "outputs": [
        {
          "output_type": "execute_result",
          "data": {
            "text/plain": [
              "0        Male\n",
              "1      Female\n",
              "2      Female\n",
              "3      Female\n",
              "4      Female\n",
              "        ...  \n",
              "120    Female\n",
              "121    Female\n",
              "122    Female\n",
              "123      Male\n",
              "124    Female\n",
              "Name: Gender, Length: 124, dtype: object"
            ]
          },
          "metadata": {},
          "execution_count": 35
        }
      ]
    },
    {
      "cell_type": "markdown",
      "source": [
        "#### **5. Handling one feature at a time**"
      ],
      "metadata": {
        "id": "OURQ3eEh2vMu"
      }
    },
    {
      "cell_type": "markdown",
      "source": [
        "##### 1. *GPA*"
      ],
      "metadata": {
        "id": "QuWCPB-123qm"
      }
    },
    {
      "cell_type": "code",
      "source": [
        "df['GPA']"
      ],
      "metadata": {
        "id": "QbJlcr7sgAmi",
        "colab": {
          "base_uri": "https://localhost:8080/"
        },
        "outputId": "edd5bdc7-4448-48b5-9f27-0d55ffae30e3"
      },
      "execution_count": null,
      "outputs": [
        {
          "output_type": "execute_result",
          "data": {
            "text/plain": [
              "0        2.4\n",
              "1      3.654\n",
              "2        3.3\n",
              "3        3.2\n",
              "4        3.5\n",
              "       ...  \n",
              "120      3.5\n",
              "121        3\n",
              "122    3.882\n",
              "123        3\n",
              "124      3.9\n",
              "Name: GPA, Length: 124, dtype: object"
            ]
          },
          "metadata": {},
          "execution_count": 36
        }
      ]
    },
    {
      "cell_type": "markdown",
      "source": [
        "Convert the GPA column to numeric, setting errors='coerce' to turn invalid parsing into NaN."
      ],
      "metadata": {
        "id": "KCB8f5p33qxO"
      }
    },
    {
      "cell_type": "code",
      "source": [
        "df['GPA'] = pd.to_numeric(df['GPA'], errors='coerce')"
      ],
      "metadata": {
        "id": "BmVHluYQ3m63"
      },
      "execution_count": null,
      "outputs": []
    },
    {
      "cell_type": "markdown",
      "source": [
        "Rounding of GPA to one."
      ],
      "metadata": {
        "id": "lWxiNtqq3wgF"
      }
    },
    {
      "cell_type": "code",
      "source": [
        "df['GPA'] = df['GPA'].round(1)"
      ],
      "metadata": {
        "id": "XoUQyRqq3QWO"
      },
      "execution_count": null,
      "outputs": []
    },
    {
      "cell_type": "code",
      "source": [
        "df['GPA']"
      ],
      "metadata": {
        "colab": {
          "base_uri": "https://localhost:8080/"
        },
        "id": "JP2-CGry31G-",
        "outputId": "f9f584ef-394c-4a8f-eff8-0f25edb41d3d"
      },
      "execution_count": null,
      "outputs": [
        {
          "output_type": "execute_result",
          "data": {
            "text/plain": [
              "0      2.4\n",
              "1      3.7\n",
              "2      3.3\n",
              "3      3.2\n",
              "4      3.5\n",
              "      ... \n",
              "120    3.5\n",
              "121    3.0\n",
              "122    3.9\n",
              "123    3.0\n",
              "124    3.9\n",
              "Name: GPA, Length: 124, dtype: float64"
            ]
          },
          "metadata": {},
          "execution_count": 39
        }
      ]
    },
    {
      "cell_type": "markdown",
      "source": [
        "##### 2. *Weight*"
      ],
      "metadata": {
        "id": "8Df5KymnB5he"
      }
    },
    {
      "cell_type": "markdown",
      "source": [
        "Checking for non-numeric values in the 'weight' column.\n"
      ],
      "metadata": {
        "id": "gGWHbrmDDQze"
      }
    },
    {
      "cell_type": "code",
      "source": [
        "non_num_wt = df['weight'][~df['weight'].apply(lambda x: str(x).replace('.', '', 1).isdigit())]\n",
        "non_num_wt"
      ],
      "metadata": {
        "colab": {
          "base_uri": "https://localhost:8080/"
        },
        "id": "yrraLlLBDPTe",
        "outputId": "b4a07296-ecd9-4a51-83ce-ac2bc8c08ea0"
      },
      "execution_count": null,
      "outputs": [
        {
          "output_type": "execute_result",
          "data": {
            "text/plain": [
              "2     Unknown\n",
              "32    Unknown\n",
              "74    Unknown\n",
              "Name: weight, dtype: object"
            ]
          },
          "metadata": {},
          "execution_count": 40
        }
      ]
    },
    {
      "cell_type": "markdown",
      "source": [
        "Now performing either \"mean\" or \"median\" value.\n",
        "\n",
        "Considerations :\n",
        "\n",
        "\n",
        "*  If weight data is approximately normally distributed without significant outliers, the mean and median might be close, and using either would be fine.\n",
        "\n",
        "*  If weight data has outliers or is skewed, the median would be a safer choice as it would provide a more central tendency of the data."
      ],
      "metadata": {
        "id": "MYXOMvZ2EQL2"
      }
    },
    {
      "cell_type": "markdown",
      "source": [
        "So now checking for outliers."
      ],
      "metadata": {
        "id": "B1ib5hLmE0V2"
      }
    },
    {
      "cell_type": "code",
      "source": [
        "# Replace \"Unknown\" with the median weight\n",
        "median_weight = df[df['weight'] != 'Unknown']['weight'].astype(float).median()\n",
        "df['weight'].replace('Unknown', median_weight, inplace=True)"
      ],
      "metadata": {
        "id": "Lj4QyF4tFcA-"
      },
      "execution_count": null,
      "outputs": []
    },
    {
      "cell_type": "markdown",
      "source": [
        "Convert the 'weight' column to float."
      ],
      "metadata": {
        "id": "MzuQY1yBFf0n"
      }
    },
    {
      "cell_type": "code",
      "source": [
        "df['weight'] = df['weight'].astype(float)\n"
      ],
      "metadata": {
        "id": "gD9pHiWqFP53"
      },
      "execution_count": null,
      "outputs": []
    },
    {
      "cell_type": "markdown",
      "source": [
        "Plotting Boxplot."
      ],
      "metadata": {
        "id": "5H5RVcXPFlfU"
      }
    },
    {
      "cell_type": "code",
      "source": [
        "plt.figure(figsize=(10, 6))\n",
        "sns.boxplot(x=df['weight'])\n",
        "plt.title(\"Boxplot of Weight\")\n",
        "plt.show()"
      ],
      "metadata": {
        "colab": {
          "base_uri": "https://localhost:8080/",
          "height": 564
        },
        "id": "X0y4zYihE3QO",
        "outputId": "fbad3d34-4038-4948-8448-7152f6d68af9"
      },
      "execution_count": null,
      "outputs": [
        {
          "output_type": "display_data",
          "data": {
            "text/plain": [
              "<Figure size 1000x600 with 1 Axes>"
            ],
            "image/png": "[encoded data removed]"
          },
          "metadata": {}
        }
      ]
    },
    {
      "cell_type": "markdown",
      "source": [
        "Convert weight from pounds to kilograms."
      ],
      "metadata": {
        "id": "Uvh04XMXC48-"
      }
    },
    {
      "cell_type": "code",
      "source": [
        "# in pounds / lbs.\n",
        "df['weight']"
      ],
      "metadata": {
        "colab": {
          "base_uri": "https://localhost:8080/"
        },
        "id": "k6lTEuRvF2Cn",
        "outputId": "e264686d-1e9d-448f-974a-48d323cc38d5"
      },
      "execution_count": null,
      "outputs": [
        {
          "output_type": "execute_result",
          "data": {
            "text/plain": [
              "0      187.0\n",
              "1      155.0\n",
              "2      155.0\n",
              "3      240.0\n",
              "4      190.0\n",
              "       ...  \n",
              "120    156.0\n",
              "121    180.0\n",
              "122    120.0\n",
              "123    135.0\n",
              "124    135.0\n",
              "Name: weight, Length: 124, dtype: float64"
            ]
          },
          "metadata": {},
          "execution_count": 44
        }
      ]
    },
    {
      "cell_type": "code",
      "source": [
        "df['weight'] = (df['weight'] * 0.453592).round(0)"
      ],
      "metadata": {
        "id": "_nwa2Oa-4aOG"
      },
      "execution_count": null,
      "outputs": []
    },
    {
      "cell_type": "code",
      "source": [
        "# in kilograms.\n",
        "df['weight']"
      ],
      "metadata": {
        "colab": {
          "base_uri": "https://localhost:8080/"
        },
        "id": "EIhnwIZ-F0_I",
        "outputId": "58cd380b-1d4a-4732-8d25-5350cf3f522c"
      },
      "execution_count": null,
      "outputs": [
        {
          "output_type": "execute_result",
          "data": {
            "text/plain": [
              "0       85.0\n",
              "1       70.0\n",
              "2       70.0\n",
              "3      109.0\n",
              "4       86.0\n",
              "       ...  \n",
              "120     71.0\n",
              "121     82.0\n",
              "122     54.0\n",
              "123     61.0\n",
              "124     61.0\n",
              "Name: weight, Length: 124, dtype: float64"
            ]
          },
          "metadata": {},
          "execution_count": 46
        }
      ]
    },
    {
      "cell_type": "code",
      "source": [
        "df['weight'] = df['weight'].astype(int)"
      ],
      "metadata": {
        "id": "waEMyRaDGSXf"
      },
      "execution_count": null,
      "outputs": []
    },
    {
      "cell_type": "code",
      "source": [
        "df['weight']"
      ],
      "metadata": {
        "colab": {
          "base_uri": "https://localhost:8080/"
        },
        "id": "3IKF5c7MGeF2",
        "outputId": "12f8d056-edc7-4d2b-dce4-0d5fbd322ab4"
      },
      "execution_count": null,
      "outputs": [
        {
          "output_type": "execute_result",
          "data": {
            "text/plain": [
              "0       85\n",
              "1       70\n",
              "2       70\n",
              "3      109\n",
              "4       86\n",
              "      ... \n",
              "120     71\n",
              "121     82\n",
              "122     54\n",
              "123     61\n",
              "124     61\n",
              "Name: weight, Length: 124, dtype: int64"
            ]
          },
          "metadata": {},
          "execution_count": 48
        }
      ]
    },
    {
      "cell_type": "code",
      "source": [
        "df['exercise'].describe()"
      ],
      "metadata": {
        "colab": {
          "base_uri": "https://localhost:8080/"
        },
        "id": "6hnn7jiVH8LP",
        "outputId": "43667156-0cb7-4e65-a87d-cc93e1e4f942"
      },
      "execution_count": null,
      "outputs": [
        {
          "output_type": "execute_result",
          "data": {
            "text/plain": [
              "count          124\n",
              "unique           3\n",
              "top       Everyday\n",
              "freq            69\n",
              "Name: exercise, dtype: object"
            ]
          },
          "metadata": {},
          "execution_count": 53
        }
      ]
    },
    {
      "cell_type": "markdown",
      "source": [
        "#### **EXPORT dataframe for dashboarding in PowerBI**"
      ],
      "metadata": {
        "id": "8joG96EEBSf2"
      }
    },
    {
      "cell_type": "code",
      "source": [
        "# file_path = \"processed_food_choices.xlsx\"\n",
        "# df.to_excel(file_path, index=False)"
      ],
      "metadata": {
        "id": "BczoRlFhBaXF"
      },
      "execution_count": null,
      "outputs": []
    }
  ]
}